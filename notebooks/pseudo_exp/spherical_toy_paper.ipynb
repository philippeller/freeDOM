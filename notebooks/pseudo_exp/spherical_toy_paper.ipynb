{
 "cells": [
  {
   "cell_type": "code",
   "execution_count": null,
   "metadata": {},
   "outputs": [],
   "source": [
    "import os\n",
    "os.environ[\"CUDA_VISIBLE_DEVICES\"]=\"0,1,2,3\"\n",
    "import numpy as np\n",
    "import matplotlib.pyplot as plt\n",
    "from scipy import stats\n",
    "from scipy.spatial import distance\n",
    "import tensorflow as tf\n",
    "from sklearn.model_selection import train_test_split\n",
    "import dama as dm\n",
    "import pickle\n",
    "import time\n",
    "import gc\n",
    "import sys\n",
    "import awkward as ak\n",
    "\n",
    "from freedom.toy_model.toy_model_functions import toy_model\n",
    "from freedom.toy_model.detectors import get_spherical_detector\n",
    "from types import SimpleNamespace\n",
    "from freedom.toy_model import NNs\n",
    "\n",
    "%load_ext autoreload\n",
    "%autoreload 2"
   ]
  },
  {
   "cell_type": "code",
   "execution_count": null,
   "metadata": {},
   "outputs": [],
   "source": [
    "plt.rcParams['xtick.labelsize'] = 16\n",
    "plt.rcParams['ytick.labelsize'] = 16 \n",
    "plt.rcParams['axes.labelsize'] = 16\n",
    "plt.rcParams['axes.titlesize'] = 16\n",
    "plt.rcParams['legend.fontsize'] = 14\n",
    "\n",
    "# Parameter names\n",
    "par_names = ['x', 'y', 'z', 't', 'azi', 'zen', 'E', 'trck_frac']\n",
    "\n",
    "# adds the true parameter values in a plot\n",
    "def plot_truth(axes, truth, idx=(0,1)):\n",
    "    if not isinstance(axes, np.ndarray):\n",
    "        axes = np.array([axes])\n",
    "    for ax in axes.flatten():\n",
    "        ax.plot([truth[idx[0]]], [truth[idx[1]]], marker='$T$', markersize=10, color='k')\n",
    "\n",
    "# plots difference between likelihood scans\n",
    "def plot_diff(a, b, axes, title_a='a', title_b='b', vmax=None, limit_diff=False, **kwargs):\n",
    "    \n",
    "    levels = stats.chi2(df=2).isf(stats.norm.sf(np.arange(1,6))*2)/2    \n",
    "    labels = [str(i) + r'$\\sigma$' for i in range(1,6)]\n",
    "    colors = ['tab:blue', 'tab:orange', 'tab:green', 'tab:red']\n",
    "    colors = plt.cm.viridis(np.linspace(0, 0.9, 6))\n",
    "    a.plot_contour(ax=axes[0], levels=levels, labels=labels, colors=colors, label=r'$\\Delta LLH$', **kwargs)\n",
    "    axes[0].set_title(title_a)\n",
    "    b.plot_contour(ax=axes[1], levels=levels,  labels=labels, colors=colors, label=r'$\\Delta LLH$', **kwargs)\n",
    "    axes[1].set_title(title_b)\n",
    "    diff = a - b\n",
    "    if limit_diff:\n",
    "        diff.plot(ax=axes[2], cmap='RdBu', cbar=True, vmin=-vmax, vmax=vmax, label=r'$\\Delta LLH$', **kwargs)\n",
    "    else:\n",
    "        diff.plot(ax=axes[2], cmap='RdBu', cbar=True, vmin=-np.max(np.abs(diff)), vmax=np.max(np.abs(diff)), label=r'$\\Delta LLH$', **kwargs) \n",
    "    axes[2].set_title(title_a + ' - ' + title_b)\n",
    "\n",
    "# the highest possible azimuth error is pi\n",
    "def correct_azi(azi):\n",
    "    azi = np.where(azi<-np.pi, azi+2*np.pi, azi)\n",
    "    return np.where(azi>np.pi, azi-2*np.pi, azi)"
   ]
  },
  {
   "cell_type": "code",
   "execution_count": null,
   "metadata": {},
   "outputs": [],
   "source": [
    "#shows the toy detector\n",
    "\n",
    "detector = get_spherical_detector(radius=10, subdivisions=4)\n",
    "print(len(detector))\n",
    "\n",
    "fig = plt.figure(figsize=(15,9))\n",
    "ax = fig.add_subplot(projection='3d')\n",
    "ax.scatter(detector[:,0], detector[:,1], detector[:,2], color='black', s=50)\n",
    "ax.grid(False)"
   ]
  },
  {
   "cell_type": "code",
   "execution_count": null,
   "metadata": {},
   "outputs": [],
   "source": [
    "# initialize the toy experiment\n",
    "toy_experiment = toy_model(detector)"
   ]
  },
  {
   "cell_type": "code",
   "execution_count": null,
   "metadata": {},
   "outputs": [],
   "source": [
    "# generate one test event\n",
    "truth = np.array([3., 1., 0, 0, 0, np.arccos(1), 5., 0.8])\n",
    "test_event = toy_experiment.generate_event(truth)"
   ]
  },
  {
   "cell_type": "code",
   "execution_count": null,
   "metadata": {},
   "outputs": [],
   "source": [
    "%%time\n",
    "# Grid scan\n",
    "\n",
    "g = dm.GridData(x=np.linspace(-10, 10, 100), y=np.linspace(-10, 10, 100))\n",
    "IDX = (0,1)\n",
    "\n",
    "g['dom_hit_term'] = np.empty(g.shape)\n",
    "g['dom_charge_terms'] = np.empty(g.shape)\n",
    "g['total_charge_hit_terms'] = np.empty(g.shape)\n",
    "g['total_charge_terms'] = np.empty(g.shape)\n",
    "\n",
    "p = np.copy(truth)\n",
    "\n",
    "for idx in np.ndindex(g.shape):\n",
    "    p[IDX[0]] = g['x'][idx]\n",
    "    p[IDX[1]] = g['y'][idx]\n",
    "    segments = toy_experiment.model(*p)\n",
    "    g['dom_hit_term'][idx] = toy_experiment.nllh_p_term_dom(segments, test_event[0])\n",
    "    g['dom_charge_terms'][idx] = toy_experiment.nllh_N_term_dom(segments, test_event[1])\n",
    "    g['total_charge_hit_terms'][idx] = toy_experiment.nllh_p_term_tot(segments, test_event[0])\n",
    "    g['total_charge_terms'][idx] = toy_experiment.nllh_N_term_tot(segments, test_event[1])\n",
    "    \n",
    "g['dom_hit_term'] -= g['dom_hit_term'].min()\n",
    "g['dom_charge_terms'] -= g['dom_charge_terms'].min()\n",
    "g['dom_llh'] = g['dom_hit_term'] + g['dom_charge_terms']\n",
    "g['total_charge_hit_terms'] -= g['total_charge_hit_terms'].min()\n",
    "g['total_charge_terms'] -= g['total_charge_terms'].min()\n",
    "g['total_charge_llh'] = g['total_charge_hit_terms'] + g['total_charge_terms']\n",
    "g['dom_llh'] -= g['dom_llh'].min()\n",
    "g['total_charge_llh'] -= g['total_charge_llh'].min()"
   ]
  },
  {
   "cell_type": "code",
   "execution_count": null,
   "metadata": {},
   "outputs": [],
   "source": [
    "# plot the scan\n",
    "fig, ax = plt.subplots(3, 3, figsize=(20,17))\n",
    "plt.subplots_adjust(wspace=0.3, hspace=0.3)\n",
    "\n",
    "plot_diff(g['dom_hit_term'], g['total_charge_hit_terms'], axes=ax[0], title_a='per DOM hit', title_b='total hit', vmax=20, limit_diff=True)\n",
    "plot_diff(g['dom_charge_terms'], g['total_charge_terms'], axes=ax[1], title_a='per DOM charge', title_b='total charge', vmax=20, limit_diff=True)\n",
    "plot_diff(g['dom_llh'], g['total_charge_llh'], axes=ax[2], title_a='per DOM llh', title_b='total llh', limit_diff=False)\n",
    "\n",
    "plot_truth(ax, truth, IDX)"
   ]
  },
  {
   "cell_type": "markdown",
   "metadata": {},
   "source": [
    "# Train NNs"
   ]
  },
  {
   "cell_type": "code",
   "execution_count": null,
   "metadata": {},
   "outputs": [],
   "source": [
    "# reduce NE for faster (but less precise) results\n",
    "NE, Set = 1_000_000, 0\n",
    "events, meta = toy_experiment.generate_events(n=NE, gamma=0, gen_volume=\"sphere\", e_lim=(1,12), inelast_lim=(0,1),\n",
    "                                              t_width=0, radius=10, contained=True, min_hits=3, rand=Set)"
   ]
  },
  {
   "cell_type": "code",
   "execution_count": null,
   "metadata": {},
   "outputs": [],
   "source": [
    "strategy = tf.distribute.MirroredStrategy()\n",
    "nGPUs = strategy.num_replicas_in_sync"
   ]
  },
  {
   "cell_type": "markdown",
   "metadata": {},
   "source": [
    "## Hit Net - total charge"
   ]
  },
  {
   "cell_type": "code",
   "execution_count": null,
   "metadata": {},
   "outputs": [],
   "source": [
    "x, t = NNs.get_hit_data(events)\n",
    "x_train, x_test, t_train, t_test = train_test_split(x, t, test_size=0.1, random_state=42)\n",
    "d_train = NNs.DataGenerator(x_train, t_train, batch_size=4096*nGPUs, time_spread=10)\n",
    "d_valid = NNs.DataGenerator(x_test, t_test, batch_size=4096*nGPUs, time_spread=10)"
   ]
  },
  {
   "cell_type": "code",
   "execution_count": null,
   "metadata": {},
   "outputs": [],
   "source": [
    "optimizer = tf.keras.optimizers.Adam(1e-4)\n",
    "\n",
    "with strategy.scope():\n",
    "    hmodel_t = NNs.get_hmodel(x_shape=6, t_shape=8, trafo=NNs.hit_trafo_3D, activation='swish', final_activation='swish')\n",
    "    hmodel_t.compile(loss='binary_crossentropy', optimizer=optimizer)"
   ]
  },
  {
   "cell_type": "code",
   "execution_count": null,
   "metadata": {
    "scrolled": false
   },
   "outputs": [],
   "source": [
    "hist = hmodel_t.fit(d_train, epochs=15, verbose=1, validation_data=d_valid)"
   ]
  },
  {
   "cell_type": "code",
   "execution_count": null,
   "metadata": {},
   "outputs": [],
   "source": [
    "xxs = np.repeat(test_event[0][np.newaxis, :], np.prod(g.shape), axis=0)\n",
    "xxs = xxs.reshape(-1, 6)\n",
    "\n",
    "tts = np.repeat(truth[np.newaxis, :], np.prod(g.shape), axis=0)\n",
    "tts[:, IDX[0]] = g.get_array('x', flat=True)\n",
    "tts[:, IDX[1]] = g.get_array('y', flat=True)\n",
    "tts = np.repeat(tts, len(test_event[0]), axis=0)\n",
    "\n",
    "hmodel_t.layers[-1].activation = tf.keras.activations.linear\n",
    "hmodel_t.compile()\n",
    "\n",
    "llhs = -hmodel_t((xxs, tts)).numpy()\n",
    "llhs = np.sum(np.nan_to_num(llhs.reshape(-1, len(test_event[0]))), axis=1)\n",
    "\n",
    "g.hit_llh_total = llhs.reshape(g.shape)\n",
    "g.hit_llh_total -= g.hit_llh_total.min()\n",
    "\n",
    "fig, ax = plt.subplots(1, 3, figsize=(20,5))\n",
    "plt.subplots_adjust(wspace=0.3)\n",
    "\n",
    "plot_diff(g.total_charge_hit_terms, g.hit_llh_total, title_a='Analytic', title_b='NN', vmax=10, axes=ax, limit_diff=True)\n",
    "plot_truth(ax, truth, IDX)"
   ]
  },
  {
   "cell_type": "markdown",
   "metadata": {},
   "source": [
    "## Charge Net - total charge"
   ]
  },
  {
   "cell_type": "code",
   "execution_count": null,
   "metadata": {},
   "outputs": [],
   "source": [
    "x, t = NNs.get_charge_data(events)\n",
    "x_train, x_test, t_train, t_test = train_test_split(x, t, test_size=0.1, random_state=42)\n",
    "d_train = NNs.DataGenerator(x_train, t_train, batch_size=4096*nGPUs)\n",
    "d_valid = NNs.DataGenerator(x_test, t_test, batch_size=4096*nGPUs)"
   ]
  },
  {
   "cell_type": "code",
   "execution_count": null,
   "metadata": {},
   "outputs": [],
   "source": [
    "optimizer = tf.keras.optimizers.Adam(1e-4)\n",
    "\n",
    "with strategy.scope():\n",
    "    cmodel = NNs.get_cmodel(x_shape=2, t_shape=8, trafo=NNs.charge_trafo_3D, activation='swish', final_activation='swish')\n",
    "    cmodel.compile(loss='binary_crossentropy', optimizer=optimizer)"
   ]
  },
  {
   "cell_type": "code",
   "execution_count": null,
   "metadata": {
    "scrolled": false
   },
   "outputs": [],
   "source": [
    "hist = cmodel.fit(d_train, epochs=100, verbose=1, validation_data=d_valid) #"
   ]
  },
  {
   "cell_type": "code",
   "execution_count": null,
   "metadata": {},
   "outputs": [],
   "source": [
    "xxs = np.tile([len(test_event[0]), len(np.unique(test_event[0][:,0]))], np.prod(g.shape))\n",
    "xxs = xxs.reshape(-1, 2)\n",
    "\n",
    "tts = np.repeat(truth[np.newaxis, :], np.prod(g.shape), axis=0)\n",
    "tts[:, IDX[0]] = g.get_array('x', flat=True)\n",
    "tts[:, IDX[1]] = g.get_array('y', flat=True)\n",
    "\n",
    "cmodel.layers[-1].activation = tf.keras.activations.linear\n",
    "cmodel.compile()\n",
    "\n",
    "llhs = np.nan_to_num(-cmodel((xxs, tts)))\n",
    "\n",
    "g.charge_llh_total = llhs.reshape(g.shape)\n",
    "g.charge_llh_total -= g.charge_llh_total.min()\n",
    "\n",
    "fig, ax = plt.subplots(1, 3, figsize=(20,5))\n",
    "plt.subplots_adjust(wspace=0.3)\n",
    "\n",
    "plot_diff(g.total_charge_terms, g.charge_llh_total, title_a='Analytic', title_b='NN', vmax=10, axes=ax, limit_diff=True)\n",
    "plot_truth(ax, truth, IDX)"
   ]
  },
  {
   "cell_type": "markdown",
   "metadata": {},
   "source": [
    "## LLH - total charge"
   ]
  },
  {
   "cell_type": "code",
   "execution_count": null,
   "metadata": {
    "scrolled": false
   },
   "outputs": [],
   "source": [
    "fig, ax = plt.subplots(3, 3, figsize=(20,17))\n",
    "plt.subplots_adjust(wspace=0.25, hspace=0.25)\n",
    "\n",
    "plot_diff(g.total_charge_hit_terms, \n",
    "          g.hit_llh_total, \n",
    "          title_a='Hit Analytic', title_b='Hit NN', vmax=10, axes=ax[0], limit_diff=True)\n",
    "\n",
    "plot_diff(g.total_charge_terms, \n",
    "          g.charge_llh_total, \n",
    "          title_a='Charge Analytic', title_b='Charge NN', vmax=10, axes=ax[1], limit_diff=True)\n",
    "\n",
    "ana, NN = g.total_charge_hit_terms+g.total_charge_terms, g.hit_llh_total+g.charge_llh_total\n",
    "plot_diff(ana-ana.min(), \n",
    "          NN-NN.min(), \n",
    "          title_a='Analytic', title_b='NN', vmax=10, axes=ax[2], limit_diff=True)\n",
    "plot_truth(ax, truth, IDX)"
   ]
  },
  {
   "cell_type": "markdown",
   "metadata": {},
   "source": [
    "## Hit Net - per dom"
   ]
  },
  {
   "cell_type": "code",
   "execution_count": null,
   "metadata": {},
   "outputs": [],
   "source": [
    "x, t = NNs.get_hit_data(events)\n",
    "x_train, x_test, t_train, t_test = train_test_split(x, t, test_size=0.1, random_state=42)\n",
    "d_train = NNs.DataGenerator(x_train, t_train, batch_size=4096*nGPUs, shuffle='inDOM', time_spread=10)\n",
    "d_valid = NNs.DataGenerator(x_test, t_test, batch_size=4096*nGPUs, shuffle='inDOM', time_spread=10)"
   ]
  },
  {
   "cell_type": "code",
   "execution_count": null,
   "metadata": {},
   "outputs": [],
   "source": [
    "optimizer = tf.keras.optimizers.Adam(2e-5)\n",
    "\n",
    "with strategy.scope():\n",
    "    hmodel_d = NNs.get_hmodel(x_shape=6, t_shape=8, trafo=NNs.hit_trafo_3D, activation='swish', final_activation='swish')\n",
    "    hmodel_d.compile(loss='binary_crossentropy', optimizer=optimizer)"
   ]
  },
  {
   "cell_type": "code",
   "execution_count": null,
   "metadata": {
    "scrolled": false
   },
   "outputs": [],
   "source": [
    "hist = hmodel_d.fit(d_train, epochs=7, verbose=1, validation_data=d_valid)"
   ]
  },
  {
   "cell_type": "code",
   "execution_count": null,
   "metadata": {},
   "outputs": [],
   "source": [
    "xxs = np.repeat(test_event[0][np.newaxis, :], np.prod(g.shape), axis=0)\n",
    "xxs = xxs.reshape(-1, 6)\n",
    "\n",
    "tts = np.repeat(truth[np.newaxis, :], np.prod(g.shape), axis=0)\n",
    "tts[:, IDX[0]] = g.get_array('x', flat=True)\n",
    "tts[:, IDX[1]] = g.get_array('y', flat=True)\n",
    "tts = np.repeat(tts, len(test_event[0]), axis=0)\n",
    "\n",
    "hmodel_d.layers[-1].activation = tf.keras.activations.linear\n",
    "hmodel_d.compile()\n",
    "\n",
    "llhs = -hmodel_d.predict((xxs, tts), batch_size=4096)\n",
    "\n",
    "llhs = np.sum(np.nan_to_num(llhs.reshape(-1, len(test_event[0]))), axis=1)\n",
    "\n",
    "g.hit_llh_dom = llhs.reshape(g.shape)\n",
    "\n",
    "g.hit_llh_dom -= g.hit_llh_dom.min()\n",
    "\n",
    "fig, ax = plt.subplots(1, 3, figsize=(20,5))\n",
    "plt.subplots_adjust(wspace=0.3)\n",
    "\n",
    "plot_diff(g.dom_hit_term, g.hit_llh_dom, title_a='Analytic', title_b='NN', vmax=10, axes=ax, limit_diff=True)\n",
    "plot_truth(ax, truth, IDX)"
   ]
  },
  {
   "cell_type": "markdown",
   "metadata": {},
   "source": [
    "## Charge Net - per DOM"
   ]
  },
  {
   "cell_type": "code",
   "execution_count": null,
   "metadata": {},
   "outputs": [],
   "source": [
    "x, t = NNs.get_dom_data(events, detector)\n",
    "x_train, x_test, t_train, t_test = train_test_split(x, t, test_size=0.1, random_state=42)\n",
    "d_train = NNs.DataGenerator(x_train, t_train, batch_size=4096*nGPUs)\n",
    "d_valid = NNs.DataGenerator(x_test, t_test, batch_size=4096*nGPUs)"
   ]
  },
  {
   "cell_type": "code",
   "execution_count": null,
   "metadata": {},
   "outputs": [],
   "source": [
    "optimizer = tf.keras.optimizers.Adam(5e-4)\n",
    "\n",
    "with strategy.scope():\n",
    "    dmodel = NNs.get_hmodel(x_shape=4, t_shape=8, trafo=NNs.dom_trafo_3D, activation='swish', final_activation='swish')\n",
    "    dmodel.compile(loss='binary_crossentropy', optimizer=optimizer)"
   ]
  },
  {
   "cell_type": "code",
   "execution_count": null,
   "metadata": {},
   "outputs": [],
   "source": [
    "hist = dmodel.fit(d_train, epochs=5, verbose=1, validation_data=d_valid)"
   ]
  },
  {
   "cell_type": "code",
   "execution_count": null,
   "metadata": {},
   "outputs": [],
   "source": [
    "xx = []\n",
    "ind = test_event[0][:, 5]\n",
    "for i in range(len(detector)):\n",
    "    d = np.append(detector[i], np.sum(ind==i))\n",
    "    xx.append(list(d))\n",
    "xxs = np.repeat(np.array(xx)[np.newaxis, :], np.prod(g.shape), axis=0)\n",
    "xxs = xxs.reshape(-1, 4)\n",
    "\n",
    "tts = np.repeat(truth[np.newaxis, :], np.prod(g.shape), axis=0)\n",
    "tts[:, IDX[0]] = g.get_array('x', flat=True)\n",
    "tts[:, IDX[1]] = g.get_array('y', flat=True)\n",
    "tts = np.repeat(tts, len(detector), axis=0)\n",
    "\n",
    "dmodel.layers[-1].activation = tf.keras.activations.linear\n",
    "dmodel.compile()\n",
    "\n",
    "llhs = -dmodel.predict((xxs, tts), batch_size=4096)\n",
    "\n",
    "llhs = np.sum(np.nan_to_num(llhs.reshape(-1, len(detector))), axis=1)\n",
    "\n",
    "g.charge_llh_dom = llhs.reshape(g.shape)\n",
    "\n",
    "g.charge_llh_dom -= g.charge_llh_dom.min()\n",
    "\n",
    "fig, ax = plt.subplots(1, 3, figsize=(20,5))\n",
    "plt.subplots_adjust(wspace=0.3)\n",
    "\n",
    "plot_diff(g.dom_charge_terms, g.charge_llh_dom, title_a='Analytic', title_b='NN', vmax=10, axes=ax, limit_diff=True)\n",
    "plot_truth(ax, truth, IDX)"
   ]
  },
  {
   "cell_type": "markdown",
   "metadata": {},
   "source": [
    "## LLH - per DOM"
   ]
  },
  {
   "cell_type": "code",
   "execution_count": null,
   "metadata": {
    "scrolled": false
   },
   "outputs": [],
   "source": [
    "fig, ax = plt.subplots(3, 3, figsize=(20,17))\n",
    "plt.subplots_adjust(wspace=0.25, hspace=0.25)\n",
    "\n",
    "plot_diff(g.dom_hit_term, \n",
    "          g.hit_llh_dom, \n",
    "          title_a='Hit Analytic', title_b='Hit NN', vmax=10, axes=ax[0], limit_diff=True)\n",
    "\n",
    "plot_diff(g.dom_charge_terms, \n",
    "          g.charge_llh_dom, \n",
    "          title_a='Charge Analytic', title_b='Charge NN', vmax=10, axes=ax[1], limit_diff=True)\n",
    "\n",
    "ana, NN = g.dom_hit_term+g.dom_charge_terms, g.hit_llh_dom+g.charge_llh_dom\n",
    "plot_diff(ana-ana.min(), \n",
    "          NN-NN.min(), \n",
    "          title_a='Analytic', title_b='NN', vmax=10, axes=ax[2], limit_diff=True)\n",
    "plot_truth(ax, truth, IDX)"
   ]
  },
  {
   "cell_type": "markdown",
   "metadata": {},
   "source": [
    "## LLH - both formulations"
   ]
  },
  {
   "cell_type": "code",
   "execution_count": null,
   "metadata": {},
   "outputs": [],
   "source": [
    "# overlays two 2D likelihood scans\n",
    "def plot_overlay(a, b, ax, **kwargs):\n",
    "    levels = stats.chi2(df=2).isf(stats.norm.sf(np.arange(1,6))*2)/2    \n",
    "    labels = [str(i) + r'$\\sigma$' for i in range(1,6)]\n",
    "    colors = plt.cm.viridis(np.linspace(0, 0.9, 6))\n",
    "    a.plot_contour(ax=ax, levels=levels, labels=labels, colors=colors, **kwargs)\n",
    "    b.plot_contour(ax=ax, levels=levels, linestyles=[':']*len(levels), colors=colors, **kwargs)\n",
    "    ax.plot([], [], label='Analytic', color='Tab:blue')\n",
    "    ax.plot([], [], label='NN', linestyle=':', color='Tab:blue')\n",
    "    ax.set_xlabel(par_names[IDX[0]])\n",
    "    ax.set_ylabel(par_names[IDX[1]])"
   ]
  },
  {
   "cell_type": "code",
   "execution_count": null,
   "metadata": {},
   "outputs": [],
   "source": [
    "g['llh_dom'] = g['hit_llh_dom'] + g['charge_llh_dom']\n",
    "g['llh_total'] = g['hit_llh_total'] + g['charge_llh_total']\n",
    "g['llh_dom'] -= g['llh_dom'].min()\n",
    "g['llh_total'] -= g['llh_total'].min()"
   ]
  },
  {
   "cell_type": "code",
   "execution_count": null,
   "metadata": {},
   "outputs": [],
   "source": [
    "fig, ax = plt.subplots(2, 3, figsize=(20,12))\n",
    "plt.subplots_adjust(wspace=0.25, hspace=0.25)\n",
    "\n",
    "plot_truth(ax, truth, IDX)\n",
    "\n",
    "ax[0][0].set_title('HitNet', size=20)\n",
    "plot_overlay(g.dom_hit_term, g.hit_llh_dom, ax[0][0])\n",
    "ax[0][0].text(g.x.min()-2.5, g.y.mean(), 'Per Sensor', rotation=90, size=20, ha='center', va='center')\n",
    "\n",
    "ax[0][1].set_title('ChargeNet', size=20)\n",
    "plot_overlay(g.dom_charge_terms, g.charge_llh_dom, ax[0][1])\n",
    "\n",
    "ax[0][2].set_title('Complete LLH', size=20)\n",
    "plot_overlay(g.dom_llh, g.llh_dom, ax[0][2])\n",
    "ax[0][2].legend(loc='upper left')\n",
    "\n",
    "plot_overlay(g.total_charge_hit_terms, g.hit_llh_total, ax[1][0])\n",
    "ax[1][0].text(g.x.min()-2.5, g.y.mean(), 'Total Detector', rotation=90, size=20, ha='center', va='center')\n",
    "\n",
    "plot_overlay(g.total_charge_terms, g.charge_llh_total, ax[1][1])\n",
    "\n",
    "plot_overlay(g.total_charge_llh, g.llh_total, ax[1][2])"
   ]
  },
  {
   "cell_type": "markdown",
   "metadata": {},
   "source": [
    "# Event reweighting"
   ]
  },
  {
   "cell_type": "code",
   "execution_count": null,
   "metadata": {},
   "outputs": [],
   "source": [
    "def get_hit_data(truth, vec, bins):\n",
    "    t = truth.reshape((1,8))\n",
    "    ts = np.repeat(t, len(hits), axis=0)\n",
    "\n",
    "    r_t = np.exp(hmodel_t.predict([hits, ts], batch_size=5000)).flatten()\n",
    "    r_d = np.exp(hmodel_d.predict([hits, ts], batch_size=5000)).flatten()\n",
    "\n",
    "    dists = distance.cdist(detector[:,:3], toy_experiment.model(*truth)[:,:3])\n",
    "    survive = toy_experiment.survival(dists)\n",
    "    hit_llh_p, hit_llh_ps = [], []\n",
    "    for b in bins:\n",
    "        mat = toy_experiment.pandel.pdf(b-dists*4.333, d=dists)\n",
    "        hit_llh_p.append(np.sum(np.sum(mat, axis=0) * vec))\n",
    "        hit_llh_ps.append(np.sum(np.sum(mat * survive, axis=0) * vec))\n",
    "    norm_p = np.sum(np.array(hit_llh_p)) * np.diff(bins)[0]\n",
    "    norm_ps = np.sum(np.array(hit_llh_ps)) * np.diff(bins)[0]\n",
    "    \n",
    "    return r_t, r_d, hit_llh_p, hit_llh_ps, norm_p, norm_ps\n",
    "\n",
    "def get_charge_data(truth, exp_bins, exp_bins_fine):\n",
    "    t = truth.reshape((1,8))\n",
    "    ts_t = np.repeat(t, len(charges_t), axis=0)\n",
    "    ts_d = np.repeat(t, len(charges_d), axis=0)\n",
    "\n",
    "    r_t = np.exp(cmodel.predict([charges_t, ts_t], batch_size=5000)).flatten()\n",
    "    r_d = np.exp(dmodel.predict([charges_d, ts_d], batch_size=5000)).flatten()\n",
    "\n",
    "    N_exp = toy_experiment.N_exp(toy_experiment.model(*truth))\n",
    "    dom_c_llh = np.zeros(len(exp_bins))\n",
    "    for N in N_exp:\n",
    "        dom_c_llh += stats.poisson.pmf(exp_bins, mu=N)\n",
    "        \n",
    "    return r_t, r_d, N_exp, dom_c_llh"
   ]
  },
  {
   "cell_type": "code",
   "execution_count": null,
   "metadata": {},
   "outputs": [],
   "source": [
    "events, meta = toy_experiment.generate_events(n=100_000, gamma=0, gen_volume=\"sphere\", e_lim=(1,12), inelast_lim=(0,1),\n",
    "                                              t_width=0, radius=10, contained=True, min_hits=3)\n",
    "truths = NNs.make_truth_array(events)"
   ]
  },
  {
   "cell_type": "markdown",
   "metadata": {},
   "source": [
    "### hitNets"
   ]
  },
  {
   "cell_type": "code",
   "execution_count": null,
   "metadata": {},
   "outputs": [],
   "source": [
    "%%time\n",
    "hits = NNs.get_hit_data(events)[0]\n",
    "hits[:, 3] += np.random.normal(0, 10, len(hits))"
   ]
  },
  {
   "cell_type": "code",
   "execution_count": null,
   "metadata": {},
   "outputs": [],
   "source": [
    "bins = np.linspace(-20,200,100)\n",
    "\n",
    "r_t, r_d, hit_llh_p, hit_llh_ps, norm_p, norm_ps = get_hit_data(\n",
    "                                                            np.array([3., 1., 0, 0, 0, np.arccos(1), 5., 0.8]), \n",
    "                                                            [4,0.2,0.2,0.2,0.2,0.2],\n",
    "                                                            bins)\n",
    "\n",
    "r_t2, r_d2, hit_llh_p2, hit_llh_ps2, norm_p2, norm_ps2 = get_hit_data(\n",
    "                                                            np.array([-5., 7., 0, 0, 0, np.arccos(1), 3., 1]), \n",
    "                                                            [3],\n",
    "                                                            bins)\n",
    "\n",
    "r_t3, r_d3, hit_llh_p3, hit_llh_ps3, norm_p3, norm_ps3 = get_hit_data(\n",
    "                                                            np.array([-5., 3., 0, 0, 0, np.arccos(1), 4., 0.9]), \n",
    "                                                            [3.6,0.2,0.2],\n",
    "                                                            bins)"
   ]
  },
  {
   "cell_type": "code",
   "execution_count": null,
   "metadata": {},
   "outputs": [],
   "source": [
    "plt.figure(figsize=(14,7*0.618))\n",
    "\n",
    "plt.subplot(121)\n",
    "plt.hist(hits[:, 3], bins, label=r'$p(x)$', density=True, histtype='step', color='black')\n",
    "\n",
    "plt.hist(hits[:, 3], bins, label=r'$p(x) \\hat{r}(x,\\theta_{1})$', weights=r_t, density=True, histtype='step')\n",
    "plt.plot(bins+np.diff(bins)[0]/2, np.array(hit_llh_ps)/norm_ps, c='tab:blue', linestyle='--', label=r'$p(x|\\theta_{1})$')\n",
    "\n",
    "plt.hist(hits[:, 3], bins, label=r'$p(x) \\hat{r}(x,\\theta_{2})$', weights=r_t2, density=True, histtype='step')\n",
    "plt.plot(bins+np.diff(bins)[0]/2, np.array(hit_llh_ps2)/norm_ps2, c='tab:orange', linestyle='--', label=r'$p(x|\\theta_{2})$')\n",
    "\n",
    "plt.hist(hits[:, 3], bins, label=r'$p(x) \\hat{r}(x,\\theta_{3})$', weights=r_t3, density=True, histtype='step')\n",
    "plt.plot(bins+np.diff(bins)[0]/2, np.array(hit_llh_ps3)/norm_ps3, c='tab:green', linestyle='--', label=r'$p(x|\\theta_{3})$')\n",
    "\n",
    "plt.legend()\n",
    "plt.title('All-sensor')\n",
    "plt.xlabel(r'$x$ = Hit time')\n",
    "plt.ylabel('PDF')\n",
    "\n",
    "\n",
    "plt.subplot(122)\n",
    "plt.hist(hits[:, 3], bins, label=r'$p(x)$', density=True, histtype='step', color='black')\n",
    "\n",
    "plt.hist(hits[:, 3], bins, label=r'$p(x) \\hat{r}(x,\\theta_{1})$', weights=r_d, density=True, histtype='step')\n",
    "plt.plot(bins+np.diff(bins)[0]/2, np.array(hit_llh_p)/norm_p, c='tab:blue', linestyle='--', label=r'$p(x|\\theta_{1})$')\n",
    "\n",
    "plt.hist(hits[:, 3], bins, label=r'$p(x) \\hat{r}(x,\\theta_{2})$', weights=r_d2, density=True, histtype='step')\n",
    "plt.plot(bins+np.diff(bins)[0]/2, np.array(hit_llh_p2)/norm_p2, c='tab:orange', linestyle='--', label=r'$p(x|\\theta_{2})$')\n",
    "\n",
    "plt.hist(hits[:, 3], bins, label=r'$p(x) \\hat{r}(x,\\theta_{3})$', weights=r_d3, density=True, histtype='step')\n",
    "plt.plot(bins+np.diff(bins)[0]/2, np.array(hit_llh_p3)/norm_p3, c='tab:green', linestyle='--', label=r'$p(x|\\theta_{3})$')\n",
    "\n",
    "plt.legend()\n",
    "plt.title('Per-sensor')\n",
    "plt.xlabel(r'$x$ = Hit time')"
   ]
  },
  {
   "cell_type": "markdown",
   "metadata": {},
   "source": [
    "### chargeNets"
   ]
  },
  {
   "cell_type": "code",
   "execution_count": null,
   "metadata": {},
   "outputs": [],
   "source": [
    "%%time\n",
    "charges_t = NNs.get_charge_data(events)[0]\n",
    "charges_d = NNs.get_dom_data(events, detector)[0]"
   ]
  },
  {
   "cell_type": "code",
   "execution_count": null,
   "metadata": {},
   "outputs": [],
   "source": [
    "exp_bins, exp_bins_fine = np.linspace(0,12,13), np.linspace(15,150,136)\n",
    "\n",
    "r_t, r_d, N_exp, dom_c_llh = get_charge_data(np.array([3., 1., 0, 0, 0, np.arccos(1), 5., 0.8]),\n",
    "                                             exp_bins, exp_bins_fine)\n",
    "r_t2, r_d2, N_exp2, dom_c_llh2 = get_charge_data(np.array([-1., 2., 0, 0, 0, np.arccos(1), 2., 1]),\n",
    "                                                 exp_bins, exp_bins_fine)\n",
    "r_t3, r_d3, N_exp3, dom_c_llh3 = get_charge_data(np.array([-7., 1., 0, 0, 0, np.arccos(0), 5., 0.8]),\n",
    "                                                 exp_bins, exp_bins_fine)"
   ]
  },
  {
   "cell_type": "code",
   "execution_count": null,
   "metadata": {
    "scrolled": false
   },
   "outputs": [],
   "source": [
    "plt.figure(figsize=(14,7*0.618))\n",
    "\n",
    "plt.subplot(121)\n",
    "bins = np.linspace(15,149,68)\n",
    "plt.hist(charges_t[:, 0], bins, label='p(x)', density=True, histtype='step', color='black')\n",
    "\n",
    "plt.hist(charges_t[:, 0], bins, label=r'$p(x) \\hat{r}(x,\\theta_{1})$', weights=r_t, density=True, histtype='step')\n",
    "plt.plot(exp_bins_fine+np.diff(exp_bins_fine)[0]/2, stats.poisson.pmf(exp_bins_fine, mu=np.sum(N_exp)), \n",
    "         c='tab:blue', linestyle='--', label=r'$p(x|\\theta_{1})$')\n",
    "\n",
    "plt.hist(charges_t[:, 0], bins, label=r'$p(x) \\hat{r}(x,\\theta_{2})$', weights=r_t2, density=True, histtype='step')\n",
    "plt.plot(exp_bins_fine+np.diff(exp_bins_fine)[0]/2, stats.poisson.pmf(exp_bins_fine, mu=np.sum(N_exp2)), \n",
    "         c='tab:orange', linestyle='--', label=r'$p(x|\\theta_{2})$')\n",
    "\n",
    "plt.hist(charges_t[:, 0], bins, label=r'$p(x) \\hat{r}(x,\\theta_{3})$', weights=r_t3, density=True, histtype='step')\n",
    "plt.plot(exp_bins_fine+np.diff(exp_bins_fine)[0]/2, stats.poisson.pmf(exp_bins_fine, mu=np.sum(N_exp3)), \n",
    "         c='tab:green', linestyle='--', label=r'$p(x|\\theta_{3})$')\n",
    "\n",
    "plt.title('All-sensor')\n",
    "plt.legend()\n",
    "plt.xlabel(r'$x$ = Charge (total detector)')\n",
    "plt.ylabel('PDF')\n",
    "\n",
    "\n",
    "plt.subplot(122)\n",
    "bins = np.linspace(0,12,13)\n",
    "plt.hist(charges_d[:, 3], bins, label='p(x)', density=True, histtype='step', color='black')\n",
    "\n",
    "plt.hist(charges_d[:, 3], bins, label=r'$p(x) \\hat{r}(x,\\theta_{1})$', weights=r_d, density=True, histtype='step')\n",
    "plt.plot(exp_bins+np.diff(exp_bins)[0]/2, dom_c_llh/len(N_exp), c='tab:blue', linestyle='--', label=r'$p(x|\\theta_{1})$')\n",
    "\n",
    "plt.hist(charges_d[:, 3], bins, label=r'$p(x) \\hat{r}(x,\\theta_{2})$', weights=r_d2, density=True, histtype='step')\n",
    "plt.plot(exp_bins+np.diff(exp_bins)[0]/2, dom_c_llh2/len(N_exp2), c='tab:orange', linestyle='--', label=r'$p(x|\\theta_{2})$')\n",
    "\n",
    "plt.hist(charges_d[:, 3], bins, label=r'$p(x) \\hat{r}(x,\\theta_{3})$', weights=r_d3, density=True, histtype='step')\n",
    "plt.plot(exp_bins+np.diff(exp_bins)[0]/2, dom_c_llh3/len(N_exp3), c='tab:green', linestyle='--', label=r'$p(x|\\theta_{3})$')\n",
    "\n",
    "plt.title('Per-sensor')\n",
    "plt.legend()\n",
    "plt.yscale('log')\n",
    "plt.ylim(1e-4, 2)\n",
    "plt.xlabel(r'$x$ = Charge (sensor)')"
   ]
  },
  {
   "cell_type": "code",
   "execution_count": null,
   "metadata": {},
   "outputs": [],
   "source": [
    "bins = np.linspace(0,13,14)\n",
    "plt.figure(figsize=(16,12))\n",
    "plt.subplots_adjust(wspace=0.25, hspace=0.3)\n",
    "\n",
    "for i, n in enumerate([0,20,40,45,50,70,100,120,150]):\n",
    "    plt.subplot(3,3,i+1)\n",
    "    idx = len(detector)*np.array(range(len(events)))+n\n",
    "    plt.hist(charges_d[idx, 3], bins, label='p(x)', density=True, histtype='step', color='black')\n",
    "    \n",
    "    plt.hist(charges_d[idx, 3], bins, label=r'$p(x) \\hat{r}(x,\\theta_{1})$', weights=r_d[idx], density=True, histtype='step')\n",
    "    plt.plot(exp_bins+np.diff(exp_bins)[0]/2, stats.poisson.pmf(exp_bins, mu=N_exp[n]), \n",
    "             c='tab:blue', linestyle='--', label=r'$p(x|\\theta_{1})$')\n",
    "    \n",
    "    plt.hist(charges_d[idx, 3], bins, label=r'$p(x) \\hat{r}(x,\\theta_{2})$', weights=r_d2[idx], density=True, histtype='step')\n",
    "    plt.plot(exp_bins+np.diff(exp_bins)[0]/2, stats.poisson.pmf(exp_bins, mu=N_exp2[n]), \n",
    "             c='tab:orange', linestyle='--', label=r'$p(x|\\theta_{2})$')\n",
    "    \n",
    "    plt.hist(charges_d[idx, 3], bins, label=r'$p(x) \\hat{r}(x,\\theta_{3})$', weights=r_d3[idx], density=True, histtype='step')\n",
    "    plt.plot(exp_bins+np.diff(exp_bins)[0]/2, stats.poisson.pmf(exp_bins, mu=N_exp3[n]), \n",
    "             c='tab:green', linestyle='--', label=r'$p(x|\\theta_{3})$')\n",
    "    \n",
    "    plt.title('DOM '+str(n))\n",
    "    if i == 2: plt.legend()\n",
    "    plt.yscale('log')\n",
    "    if i > 5: plt.xlabel(r'$x$ = Charge (sensor)')\n",
    "    if i%3 == 0: plt.ylabel('PDF')\n",
    "    plt.ylim(1e-6, 1e0)"
   ]
  },
  {
   "cell_type": "code",
   "execution_count": null,
   "metadata": {},
   "outputs": [],
   "source": []
  }
 ],
 "metadata": {
  "kernelspec": {
   "display_name": "Python 3 (ipykernel)",
   "language": "python",
   "name": "python3"
  },
  "language_info": {
   "codemirror_mode": {
    "name": "ipython",
    "version": 3
   },
   "file_extension": ".py",
   "mimetype": "text/x-python",
   "name": "python",
   "nbconvert_exporter": "python",
   "pygments_lexer": "ipython3",
   "version": "3.9.13"
  }
 },
 "nbformat": 4,
 "nbformat_minor": 4
}
