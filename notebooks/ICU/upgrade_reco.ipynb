{
 "cells": [
  {
   "cell_type": "markdown",
   "metadata": {},
   "source": [
    "### Reconstruct a subset of the Upgrade test events"
   ]
  },
  {
   "cell_type": "code",
   "execution_count": 1,
   "metadata": {},
   "outputs": [],
   "source": [
    "import pickle\n",
    "import math\n",
    "import time\n",
    "import os\n",
    "from multiprocessing import Process, Pool\n",
    "from copy import deepcopy\n",
    "from functools import partial\n",
    "\n",
    "from matplotlib import pyplot as plt\n",
    "import numpy as np\n",
    "import zmq\n",
    "\n",
    "from freedom.llh_service.llh_client import LLHClient\n",
    "from freedom.llh_service.service_utils import kill_service\n",
    "from freedom.reco import crs_reco, summary_df, transforms"
   ]
  },
  {
   "cell_type": "code",
   "execution_count": 2,
   "metadata": {},
   "outputs": [],
   "source": [
    "params = {'legend.fontsize': 17,\n",
    "          'figure.figsize': (15, 9.3),\n",
    "          'axes.labelsize': 20,\n",
    "          'axes.titlesize': 20,\n",
    "          'xtick.labelsize': 22,\n",
    "          'ytick.labelsize': 22}\n",
    "plt.rcParams.update(params)"
   ]
  },
  {
   "cell_type": "code",
   "execution_count": 3,
   "metadata": {},
   "outputs": [],
   "source": [
    "cvmfs_path = '/cvmfs/icecube.opensciencegrid.org/users/peller/freeDOM/resources'\n",
    "model_path = f'{cvmfs_path}/Upgrade_NNs'"
   ]
  },
  {
   "cell_type": "code",
   "execution_count": 4,
   "metadata": {},
   "outputs": [],
   "source": [
    "n_gpus = 4"
   ]
  },
  {
   "cell_type": "code",
   "execution_count": 5,
   "metadata": {},
   "outputs": [],
   "source": [
    "n_live_points = 97"
   ]
  },
  {
   "cell_type": "code",
   "execution_count": 6,
   "metadata": {},
   "outputs": [],
   "source": [
    "n_events = 3200"
   ]
  },
  {
   "cell_type": "code",
   "execution_count": 7,
   "metadata": {},
   "outputs": [],
   "source": [
    "with open(f'{cvmfs_path}/test_events_upgrade.pkl', 'rb') as f:\n",
    "    events = pickle.load(f)[:n_events]"
   ]
  },
  {
   "cell_type": "code",
   "execution_count": 8,
   "metadata": {},
   "outputs": [],
   "source": [
    "for event in events:\n",
    "    event['hit_data'] = [event['hits_DOM'], event['hits_mDOM'], event['hits_DEgg']]\n",
    "    event['evt_data'] = [event['total_charge_DOM'], event['total_charge_mDOM'], event['total_charge_DEgg']]"
   ]
  },
  {
   "cell_type": "code",
   "execution_count": 9,
   "metadata": {},
   "outputs": [],
   "source": [
    "base_conf = {\n",
    "        \"poll_timeout\": 1,\n",
    "        \"flush_period\": 1,\n",
    "        \"n_hypo_params\": 8,\n",
    "        \"n_hit_features\": 10,\n",
    "        \"n_evt_features\": 2,\n",
    "        \"send_hwm\": 10000,\n",
    "        \"recv_hwm\": 10000,\n",
    "        \"batch_size\": {\"n_hypos\": 200},\n",
    "        \"req_addr\": \"tcp://127.0.0.1:*\",\n",
    "}"
   ]
  },
  {
   "cell_type": "code",
   "execution_count": 10,
   "metadata": {},
   "outputs": [],
   "source": [
    "def start_upgrade_service(base_conf, index, obs_per_hypo, hitnet_file, chargenet_file, cuda_device=0):\n",
    "    conf = deepcopy(base_conf)\n",
    "    conf[\"batch_size\"][\"n_observations\"] = conf[\"batch_size\"][\"n_hypos\"] * obs_per_hypo\n",
    "    conf[\"ctrl_addr\"] = crs_reco.adjust_addr_string(conf[\"ctrl_addr\"], index)\n",
    "    conf[\"hitnet_file\"] = hitnet_file\n",
    "    conf[\"chargenet_file\"] = chargenet_file\n",
    "    proc = Process(target=crs_reco.start_service, \n",
    "                   args=(conf, conf[\"ctrl_addr\"], conf[\"req_addr\"], cuda_device))\n",
    "    proc.start()\n",
    "    \n",
    "    return proc, conf[\"ctrl_addr\"]"
   ]
  },
  {
   "cell_type": "markdown",
   "metadata": {},
   "source": [
    "### Start the LLH services, one per module type per GPU"
   ]
  },
  {
   "cell_type": "code",
   "execution_count": 11,
   "metadata": {},
   "outputs": [],
   "source": [
    "module_names = [\"DOM\", \"mDOM\", \"DEgg\"]\n",
    "obs_per_hypo = [16, 64, 32]\n",
    "hitnet_files = [f\"{model_path}/hitNet_{mname}s.hdf5\" for mname in module_names]\n",
    "chargenet_files = [f\"{model_path}/chargeNet_{mname}s.hdf5\" for mname in module_names]"
   ]
  },
  {
   "cell_type": "code",
   "execution_count": 12,
   "metadata": {},
   "outputs": [],
   "source": [
    "%%capture\n",
    "os.environ['TF_CPP_MIN_LOG_LEVEL'] = '3' \n",
    "ctrl_addrs = []\n",
    "procs = []\n",
    "for gpu_ind in range(n_gpus):\n",
    "    gpu_base_conf = deepcopy(base_conf)\n",
    "    gpu_base_conf[\"ctrl_addr\"] = f\"tcp://127.0.0.1:123{gpu_ind}0\"\n",
    "    gpu_addrs = []\n",
    "    gpu_procs = []\n",
    "    for i, (hitnet, chargenet, obs_fac) in enumerate(zip(hitnet_files, chargenet_files, obs_per_hypo)):\n",
    "        proc, ctrl_addr = start_upgrade_service(gpu_base_conf, i, obs_fac, hitnet, chargenet, gpu_ind)\n",
    "        gpu_addrs.append(ctrl_addr)\n",
    "        gpu_procs.append(proc)\n",
    "    \n",
    "    ctrl_addrs.append(gpu_addrs)\n",
    "    procs.append(gpu_procs)"
   ]
  },
  {
   "cell_type": "markdown",
   "metadata": {},
   "source": [
    "### Fit a single event"
   ]
  },
  {
   "cell_type": "code",
   "execution_count": 13,
   "metadata": {},
   "outputs": [
    {
     "name": "stdout",
     "output_type": "stream",
     "text": [
      "CPU times: user 842 ms, sys: 126 ms, total: 968 ms\n",
      "Wall time: 56.5 s\n"
     ]
    }
   ],
   "source": [
    "%%time\n",
    "test_out = crs_reco.fit_events(events[:1], 0, ctrl_addrs, \n",
    "                               n_live_points=n_live_points, batch_size=12, \n",
    "                               spherical_indices=[[4,5]], do_postfit=True)"
   ]
  },
  {
   "cell_type": "code",
   "execution_count": 14,
   "metadata": {},
   "outputs": [
    {
     "name": "stdout",
     "output_type": "stream",
     "text": [
      "best fit -LLH: -548.18\n",
      "true params -LLH: -462.38\n",
      "---\n",
      "n LLH calls: 8617\n",
      "n optimizer iterations: 439\n"
     ]
    }
   ],
   "source": [
    "print(f'best fit -LLH: {test_out[0][0][\"fun\"]:.2f}')\n",
    "print(f'true params -LLH: {test_out[0][1]:.2f}')\n",
    "print('---')\n",
    "print(f'n LLH calls: {test_out[0][0][\"n_calls\"]}')\n",
    "print(f'n optimizer iterations: {test_out[0][0][\"nit\"]}')"
   ]
  },
  {
   "cell_type": "markdown",
   "metadata": {},
   "source": [
    "### Fit all the events across `n_gpus` gpus"
   ]
  },
  {
   "cell_type": "code",
   "execution_count": 15,
   "metadata": {},
   "outputs": [],
   "source": [
    "events_to_process = len(events)\n",
    "pool_size = 50 * n_gpus\n",
    "evts_per_proc = int(math.ceil(events_to_process/pool_size))\n",
    "evt_splits = [events[i*evts_per_proc:(i+1)*evts_per_proc] for i in range(pool_size)]"
   ]
  },
  {
   "cell_type": "code",
   "execution_count": 16,
   "metadata": {},
   "outputs": [],
   "source": [
    "gpu_inds = np.arange(pool_size) % n_gpus"
   ]
  },
  {
   "cell_type": "code",
   "execution_count": 17,
   "metadata": {},
   "outputs": [],
   "source": [
    "fit_events_partial = partial(\n",
    "    crs_reco.fit_events,\n",
    "    ctrl_addrs=ctrl_addrs,\n",
    "    n_live_points=n_live_points,\n",
    "    spherical_indices=[[4,5]],\n",
    "    batch_size=12,\n",
    "    do_postfit=True\n",
    ")"
   ]
  },
  {
   "cell_type": "code",
   "execution_count": 18,
   "metadata": {},
   "outputs": [
    {
     "name": "stdout",
     "output_type": "stream",
     "text": [
      "CPU times: user 542 ms, sys: 1.14 s, total: 1.68 s\n",
      "Wall time: 19min 35s\n"
     ]
    }
   ],
   "source": [
    "%%time\n",
    "start = time.time()\n",
    "# reconstruct with a worker pool; one LLH client per worker\n",
    "with Pool(pool_size) as p:\n",
    "    outs = p.starmap(fit_events_partial, zip(evt_splits, gpu_inds))\n",
    "delta = time.time() - start"
   ]
  },
  {
   "cell_type": "code",
   "execution_count": 19,
   "metadata": {},
   "outputs": [],
   "source": [
    "all_outs = sum((out for out in outs), [])"
   ]
  },
  {
   "cell_type": "code",
   "execution_count": 20,
   "metadata": {},
   "outputs": [
    {
     "name": "stdout",
     "output_type": "stream",
     "text": [
      "16505374 total calls\n",
      "845506 total iters\n",
      "5157.9 calls per event\n",
      "71.24 us per call\n",
      "264.2 iters per event\n",
      "1390.62 us per iter\n"
     ]
    }
   ],
   "source": [
    "total_calls = sum(out[0]['n_calls'] for out in all_outs)\n",
    "total_iters = sum(out[0]['nit'] for out in all_outs)\n",
    "print(f'{total_calls} total calls')\n",
    "time_per_call = delta/total_calls\n",
    "print(f'{total_iters} total iters')\n",
    "time_per_iter = delta/total_iters\n",
    "print(f'{total_calls/len(all_outs):.1f} calls per event')\n",
    "print(f'{time_per_call*1e6:.2f} us per call')\n",
    "\n",
    "print(f'{total_iters/len(all_outs):.1f} iters per event')\n",
    "print(f'{time_per_iter*1e6:.2f} us per iter')"
   ]
  },
  {
   "cell_type": "markdown",
   "metadata": {},
   "source": [
    "### Kill all the services"
   ]
  },
  {
   "cell_type": "code",
   "execution_count": 21,
   "metadata": {},
   "outputs": [],
   "source": [
    "for addr in sum(ctrl_addrs, []):        \n",
    "    kill_service(addr)\n",
    "    \n",
    "for proc in sum(procs, []):\n",
    "    proc.join()"
   ]
  },
  {
   "cell_type": "code",
   "execution_count": 22,
   "metadata": {},
   "outputs": [],
   "source": [
    "par_names = transforms.DEFAULT_LABELS\n",
    "df = summary_df.build_summary_df(all_outs, par_names)"
   ]
  },
  {
   "cell_type": "code",
   "execution_count": 23,
   "metadata": {},
   "outputs": [
    {
     "name": "stdout",
     "output_type": "stream",
     "text": [
      "free fit better frac: 0.97\n"
     ]
    }
   ],
   "source": [
    "free_f_better = df[df.free_fit_llh < df.true_p_llh]\n",
    "frac = len(free_f_better) / len(df)\n",
    "print(f'free fit better frac: {frac:.2f}')"
   ]
  },
  {
   "cell_type": "code",
   "execution_count": 24,
   "metadata": {},
   "outputs": [],
   "source": [
    "df.to_pickle('./test_out_ICU.pkl')"
   ]
  },
  {
   "cell_type": "code",
   "execution_count": 25,
   "metadata": {},
   "outputs": [
    {
     "data": {
      "text/plain": [
       "Text(0, 0.5, 'n events')"
      ]
     },
     "execution_count": 25,
     "metadata": {},
     "output_type": "execute_result"
    },
    {
     "data": {
      "image/png": "[encoded data removed]",
      "text/plain": [
       "<Figure size 864x360 with 1 Axes>"
      ]
     },
     "metadata": {
      "needs_background": "light"
     },
     "output_type": "display_data"
    }
   ],
   "source": [
    "fig, ax = plt.subplots(figsize=(12, 5))\n",
    "zen_ind = par_names.index('zenith')\n",
    "true_zen = np.array([event['params'][zen_ind] for event in events])\n",
    "czen_bins = np.linspace(-1, 1, 50)\n",
    "ax.hist(np.cos(df.zenith) - np.cos(true_zen), bins=czen_bins, histtype='step')\n",
    "ax.set_xlabel('cos zen err')\n",
    "ax.set_ylabel('n events')"
   ]
  },
  {
   "cell_type": "code",
   "execution_count": 26,
   "metadata": {},
   "outputs": [
    {
     "data": {
      "text/plain": [
       "<matplotlib.legend.Legend at 0x2b821e2fa8e0>"
      ]
     },
     "execution_count": 26,
     "metadata": {},
     "output_type": "execute_result"
    },
    {
     "data": {
      "image/png": "[encoded data removed]",
      "text/plain": [
       "<Figure size 864x360 with 1 Axes>"
      ]
     },
     "metadata": {
      "needs_background": "light"
     },
     "output_type": "display_data"
    }
   ],
   "source": [
    "fig, ax = plt.subplots(figsize=(12, 5))\n",
    "true_zen = np.array([event['params'][zen_ind] for event in events])\n",
    "bins = np.linspace(-1, 1, 50)\n",
    "ax.hist(np.cos(df.zenith), bins=bins, histtype='step', label='reco')\n",
    "ax.hist(np.cos(true_zen), bins=bins, histtype='step', label='true')\n",
    "ax.set_xlabel('cos zen')\n",
    "ax.set_ylabel('n events')\n",
    "ax.legend()"
   ]
  }
 ],
 "metadata": {
  "kernelspec": {
   "display_name": "Python 3 (ipykernel)",
   "language": "python",
   "name": "python3"
  },
  "language_info": {
   "codemirror_mode": {
    "name": "ipython",
    "version": 3
   },
   "file_extension": ".py",
   "mimetype": "text/x-python",
   "name": "python",
   "nbconvert_exporter": "python",
   "pygments_lexer": "ipython3",
   "version": "3.8.8"
  }
 },
 "nbformat": 4,
 "nbformat_minor": 4
}
