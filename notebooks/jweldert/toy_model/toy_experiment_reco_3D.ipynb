{
 "cells": [
  {
   "cell_type": "code",
   "execution_count": null,
   "metadata": {},
   "outputs": [],
   "source": [
    "import numpy as np\n",
    "import matplotlib.pyplot as plt\n",
    "import pickle\n",
    "import dama as dm\n",
    "#import tensorflow as tf\n",
    "#import tensorflow_addons as tfa\n",
    "\n",
    "from matplotlib.colors import LogNorm\n",
    "from scipy import stats\n",
    "from scipy.optimize import minimize\n",
    "from scipy.optimize import curve_fit\n",
    "from multiprocessing import Process, Pool\n",
    "from spherical_opt import spherical_opt"
   ]
  },
  {
   "cell_type": "code",
   "execution_count": null,
   "metadata": {},
   "outputs": [],
   "source": [
    "params = {'legend.fontsize': 17,\n",
    "          'figure.figsize': (15, 9.3),\n",
    "          'axes.labelsize': 24,\n",
    "          'axes.titlesize': 24,\n",
    "          'xtick.labelsize': 22,\n",
    "          'ytick.labelsize': 22}\n",
    "plt.rcParams.update(params)\n",
    "\n",
    "par_names = ['x', 'y', 'z', 't', 'azi', 'zen', 'Ecscd', 'Etrck']\n",
    "data_path = '../../../freedom/resources/toy_data/'\n",
    "plot_path = '../../../plots/toy_model/'\n",
    "\n",
    "def correct_azi(azi):\n",
    "    azi = np.where(azi<-np.pi, azi+2*np.pi, azi)\n",
    "    return np.where(azi>np.pi, azi-2*np.pi, azi)\n",
    "\n",
    "def plot_diff(diff, bins, label):\n",
    "    diff = diff[~np.isnan(diff)]\n",
    "    plt.hist(diff, bins, label=label + ' (std=%.2f, iqr=%.2f)'%(np.std(diff), stats.iqr(diff)), alpha=0.5)\n",
    "    if 'true' in label:\n",
    "        o, c = 0.05, 'tab:Blue'\n",
    "    else:\n",
    "        o, c = 0.11, 'tab:Orange'"
   ]
  },
  {
   "cell_type": "code",
   "execution_count": null,
   "metadata": {},
   "outputs": [],
   "source": [
    "from freedom.toy_model import advanced_toy_3D\n",
    "detectors = np.vstack([[3.1,7.2,4.2,10.7,11.3,5.7,-1.0,-1.1], [-7.3,-6.7,3.5,2.7,-6.0,-10.5,-8.0,0.7], np.ones(8)]).T\n",
    "detectors = np.repeat(detectors, 25, axis=0)\n",
    "detectors[:, 2] = np.tile(np.linspace(-17, 17, 25), 8)\n",
    "toy_experiment = advanced_toy_3D.advanced_toy_experiment(detectors=detectors, time_dist=advanced_toy_3D.pandel)"
   ]
  },
  {
   "cell_type": "markdown",
   "metadata": {},
   "source": [
    "## Create/Get events"
   ]
  },
  {
   "cell_type": "code",
   "execution_count": null,
   "metadata": {},
   "outputs": [],
   "source": [
    "N = 1000\n",
    "\n",
    "#events, Truth = toy_experiment.generate_events(N)\n",
    "#np.save('../../../freedom/resources/toy_data/toy_events_3D_test', events)\n",
    "#np.save('../../../freedom/resources/toy_data/toy_truth_3D_test', Truth)\n",
    "\n",
    "events = np.load('../../../freedom/resources/toy_data/toy_events_3D_test.npy', allow_pickle=True)[:N]\n",
    "Truth = np.load('../../../freedom/resources/toy_data/toy_truth_3D_test.npy')[:N]"
   ]
  },
  {
   "cell_type": "markdown",
   "metadata": {},
   "source": [
    "## Reco events"
   ]
  },
  {
   "cell_type": "code",
   "execution_count": null,
   "metadata": {},
   "outputs": [],
   "source": [
    "bounds = np.array([[-2,12], [-12,4], [-18,18], [-30,30], [0, 2*np.pi], [0, np.pi], [1,30], [0,30]])\n",
    "\n",
    "def init_points(hits, n_live_points, n_params=8, bound=bounds, seed=[None]):\n",
    "    if seed[0] == None:\n",
    "        avg = np.roll(np.average(hits[:, :4], axis=0), -1)\n",
    "        low_lims = np.concatenate([avg-np.array([5,5,10,60]), np.array([0,0,1,0])])\n",
    "        hig_lims = np.concatenate([avg+np.array([5,5,10,0]), np.array([2*np.pi,np.pi,30,30])])\n",
    "    else:\n",
    "        low_lims = seed - np.array([2,2,3,5,0.5,0.3,3,3])\n",
    "        hig_lims = seed + np.array([2,2,3,5,0.5,0.3,3,3])\n",
    "    \n",
    "    uniforms = np.random.uniform(size=(n_live_points, n_params))\n",
    "    initial_points = low_lims + uniforms * (hig_lims - low_lims)\n",
    "    initial_points = np.clip(initial_points, bounds[:, 0], bounds[:, 1])\n",
    "    return initial_points"
   ]
  },
  {
   "cell_type": "markdown",
   "metadata": {},
   "source": [
    "#### true LLH"
   ]
  },
  {
   "cell_type": "code",
   "execution_count": null,
   "metadata": {},
   "outputs": [],
   "source": [
    "def LLHs(X, event, only_c=False, only_h=False, fix=[None], bounds=bounds):\n",
    "    if X.ndim == 1:\n",
    "        return LLH(X, event, only_c, only_h, fix, bounds)\n",
    "    else:\n",
    "        o = []\n",
    "        for x in X:\n",
    "            o.append(LLH(x, event, only_c, only_h, fix, bounds))\n",
    "        return np.array(o)\n",
    "\n",
    "def LLH(X, event, only_c=False, only_h=False, fix=[None], bounds=bounds):\n",
    "    #X: hypo_x, hypo_y, hypo_t, hypo_N_src, hypo_ang\n",
    "    assert only_c + only_h < 2\n",
    "    \n",
    "    if fix[0] != None:\n",
    "        X = np.insert(X, fix[0], fix[1])\n",
    "        \n",
    "    if ~np.alltrue(np.logical_and(bounds[:,0] <= X, X <= bounds[:,1]), axis=-1):\n",
    "        return 1e9\n",
    "    \n",
    "    pos = np.array([X[0], X[1], X[2]])\n",
    "    angs = np.array([X[4], X[5]])\n",
    "    c_term = -toy_experiment.charge_term(event[0], pos, angs, X[6], X[7])\n",
    "    h_term = -toy_experiment.hit_term(event[1], pos, X[3], angs, X[6], X[7])\n",
    "    \n",
    "    if only_c: return c_term\n",
    "    if only_h: return h_term\n",
    "    return c_term + h_term"
   ]
  },
  {
   "cell_type": "code",
   "execution_count": null,
   "metadata": {},
   "outputs": [],
   "source": [
    "def fit_event(event):\n",
    "    event, truth = event\n",
    "    \n",
    "    def eval_LLH(params):\n",
    "        return LLHs(params, event)\n",
    "\n",
    "    # seeding\n",
    "    initial_points = init_points(event[1], 97) #, seed=truth\n",
    "    \n",
    "    # free fit\n",
    "    fit_res = spherical_opt.spherical_opt(\n",
    "        func=eval_LLH,\n",
    "        method=\"CRS2\", #Nelder-Mead\n",
    "        initial_points=initial_points,\n",
    "        rand=np.random.default_rng(42),\n",
    "        spherical_indices=[[4,5]],\n",
    "        batch_size=12,\n",
    "        #**sph_opt_kwargs,\n",
    "    )\n",
    "    out = fit_res['x']\n",
    "    #out = np.append(out, fit_res['fun'])\n",
    "    '''\n",
    "    # 1 param fixed fit\n",
    "    initial_points = init_points(event[1], 97, seed=fit_res['x'])\n",
    "    for i in range(8):\n",
    "        def eval_LLH(params):\n",
    "            params = np.delete(params, i)\n",
    "            return LLH(params, event, fix=[i, truth[i]])\n",
    "        m = spherical_opt.spherical_opt(func=eval_LLH, method=\"CRS2\", initial_points=initial_points,\n",
    "                                        rand=np.random.default_rng(42), spherical_indices=[[4,5]], batch_size=12)\n",
    "        dllh = m['fun']-fit_res['fun']\n",
    "        out = np.append(out, dllh)\n",
    "    '''\n",
    "    return list(out)"
   ]
  },
  {
   "cell_type": "code",
   "execution_count": null,
   "metadata": {
    "scrolled": true
   },
   "outputs": [],
   "source": [
    "%%time\n",
    "with Pool(10) as p:\n",
    "    outs = p.map(fit_event, zip(events, Truth))"
   ]
  },
  {
   "cell_type": "code",
   "execution_count": null,
   "metadata": {},
   "outputs": [],
   "source": [
    "#np.save('../../../freedom/resources/toy_data/toy_reco_3D_trueLLH_CRS_CoGSeed', outs)\n",
    "Reco = np.array(outs) #np.load('../../../freedom/resources/toy_data/toy_reco_3D_trueLLH_CRS_CoGSeed.npy')"
   ]
  },
  {
   "cell_type": "markdown",
   "metadata": {},
   "source": [
    "Minimizer tests"
   ]
  },
  {
   "cell_type": "code",
   "execution_count": null,
   "metadata": {},
   "outputs": [],
   "source": [
    "#from_CoG = np.array(outs)\n",
    "from_CoG_new = np.array(outs)\n",
    "#from_truth = np.array(outs)"
   ]
  },
  {
   "cell_type": "code",
   "execution_count": null,
   "metadata": {},
   "outputs": [],
   "source": [
    "LLH(Truth[0], events[0])"
   ]
  },
  {
   "cell_type": "code",
   "execution_count": null,
   "metadata": {},
   "outputs": [],
   "source": [
    "from_truth[:10, -1], from_CoG[:10, -1], from_CoG_new[:10, -1]"
   ]
  },
  {
   "cell_type": "code",
   "execution_count": null,
   "metadata": {},
   "outputs": [],
   "source": [
    "plt.hist(from_truth[:, -1] - from_CoG[:, -1], np.linspace(-10, 7, 109), histtype='step', label='97 livepoints', linewidth=3)\n",
    "plt.hist(from_truth[:, -1] - from_CoG_new[:, -1], np.linspace(-20, 7, 109), histtype='step', label='970 livepoints', linewidth=3)\n",
    "plt.axvline(0, color='black', linestyle=':')\n",
    "plt.legend()\n",
    "plt.xlabel(r'$LLH_{truth} - LLH_{CoG}$')\n",
    "#plt.savefig(plot_path+'/bf_llh_seed', bbox_inches='tight')"
   ]
  },
  {
   "cell_type": "code",
   "execution_count": null,
   "metadata": {},
   "outputs": [],
   "source": [
    "I = 0\n",
    "bins = np.linspace(-4,4,50)\n",
    "plt.hist(from_CoG[:, I] - Truth[:, I], bins, histtype='step', label='97 livepoints', linewidth=3)\n",
    "plt.hist(from_CoG_new[:, I] - Truth[:, I], bins, histtype='step', label='970 livepoints', linewidth=3)\n",
    "plt.hist(from_truth[:, I] - Truth[:, I], bins, histtype='step', label='Truth seed', linewidth=3)\n",
    "plt.axvline(0, color='black', linestyle=':')\n",
    "plt.legend()\n",
    "plt.xlabel(r'$x_{reco} - x_{true}$')\n",
    "#plt.savefig(plot_path+'/x_res', bbox_inches='tight')"
   ]
  },
  {
   "cell_type": "code",
   "execution_count": null,
   "metadata": {},
   "outputs": [],
   "source": [
    "reco_abs = np.abs(from_CoG_new[:, I] - Truth[:, I])\n",
    "true_abs = np.abs(from_truth[:, I] - Truth[:, I])\n",
    "plt.scatter(from_truth[:, -1] - from_CoG_new[:, -1], reco_abs-true_abs)\n",
    "plt.axvline(0, color='black', linestyle=':')\n",
    "plt.axhline(0, color='black', linestyle=':')\n",
    "plt.xlabel(r'$LLH_{truth} - LLH_{CoG}$')\n",
    "plt.ylabel(r'$|\\Delta x|_{CoG} - |\\Delta x|_{truth}$')\n",
    "#plt.savefig(plot_path+'/x_scatter', bbox_inches='tight')"
   ]
  },
  {
   "cell_type": "markdown",
   "metadata": {},
   "source": [
    "#### NN LLH"
   ]
  },
  {
   "cell_type": "code",
   "execution_count": null,
   "metadata": {},
   "outputs": [],
   "source": [
    "import math\n",
    "\n",
    "from functools import partial\n",
    "from freedom.llh_service.llh_service import LLHService\n",
    "from freedom.llh_service.llh_client import LLHClient\n",
    "from freedom.reco import crs_reco"
   ]
  },
  {
   "cell_type": "code",
   "execution_count": null,
   "metadata": {},
   "outputs": [],
   "source": [
    "loc = '../../../freedom/resources/models/toy/'\n",
    "service_conf = {\n",
    "        \"poll_timeout\": 1,\n",
    "        \"flush_period\": 1,\n",
    "        \"n_hypo_params\": 8,\n",
    "        \"n_hit_features\": 4,\n",
    "        \"n_evt_features\": 2,\n",
    "        \"batch_size\" : {\n",
    "          \"n_hypos\": 200,\n",
    "          \"n_observations\": 6000, \n",
    "        },\n",
    "        \"send_hwm\": 10000,\n",
    "        \"recv_hwm\": 10000,\n",
    "        \"hitnet_file\": loc+'hitNet_3D.hdf5',\n",
    "        \"chargenet_file\": loc+'chargeNet_3D.hdf5',\n",
    "}"
   ]
  },
  {
   "cell_type": "code",
   "execution_count": null,
   "metadata": {},
   "outputs": [],
   "source": [
    "n_gpus = 4\n",
    "\n",
    "base_req = \"ipc:///tmp/recotestreq\"\n",
    "base_ctrl = \"ipc:///tmp/recotestctrl\"\n",
    "\n",
    "req_addrs = []\n",
    "ctrl_addrs = []\n",
    "for i in range(n_gpus):\n",
    "    req_addrs.append(f'{base_req}{i}')\n",
    "    ctrl_addrs.append(f'{base_ctrl}{i}')\n",
    "    \n",
    "procs = []\n",
    "for i in range(n_gpus):\n",
    "    proc = Process(target=crs_reco.start_service, args=(service_conf, ctrl_addrs[i], req_addrs[i], i))\n",
    "    proc.start()\n",
    "    procs.append(proc)"
   ]
  },
  {
   "cell_type": "code",
   "execution_count": null,
   "metadata": {},
   "outputs": [],
   "source": [
    "def fit_events(events, index, Truths, ctrl_addrs):\n",
    "    outputs = []\n",
    "\n",
    "    client = LLHClient(ctrl_addr=ctrl_addrs[index], conf_timeout=60000)\n",
    "    def Eval_llh(params, event, fix=[None]):\n",
    "        if fix[0] != None:\n",
    "            params = np.insert(params, fix[0], fix[1])\n",
    "            \n",
    "        if ~np.alltrue(np.logical_and(bounds[:,0] <= params, params <= bounds[:,1]), axis=-1):\n",
    "            return 1e9\n",
    "        \n",
    "        return client.eval_llh(event[1][:, :4], event[0], params)\n",
    "\n",
    "    for j, event in enumerate(events):\n",
    "        def eval_LLH(params):\n",
    "            if params.ndim == 1:\n",
    "                return Eval_llh(params, event)\n",
    "            else:\n",
    "                o = []\n",
    "                for p in params:\n",
    "                    o.append(Eval_llh(p, event))\n",
    "                return np.array(o)\n",
    "\n",
    "        # seeding\n",
    "        initial_points = init_points(event[1], 97) #, seed=Truths[j]\n",
    "        \n",
    "        #free fit\n",
    "        fit_res = spherical_opt.spherical_opt(\n",
    "            func=eval_LLH,\n",
    "            method=\"CRS2\", #Nelder-Mead\n",
    "            initial_points=initial_points,\n",
    "            rand=np.random.default_rng(42),\n",
    "            spherical_indices=[[4,5]],\n",
    "            batch_size=12,\n",
    "            #**sph_opt_kwargs,\n",
    "        )\n",
    "        out = fit_res['x']\n",
    "        #out = np.append(out, fit_res['fun'])\n",
    "        '''\n",
    "        # 1 param fixed fit\n",
    "        initial_points = init_points(event[1], 97, seed=fit_res['x'])\n",
    "        for i in range(8):\n",
    "            def eval_LLH(params):\n",
    "                params = np.delete(params, i)\n",
    "                return Eval_llh(params, event, fix=[i, Truths[j][i]])\n",
    "            m = spherical_opt.spherical_opt(func=eval_LLH, method=\"CRS2\", initial_points=initial_points,\n",
    "                                            rand=np.random.default_rng(42), spherical_indices=[[4,5]], batch_size=12)\n",
    "            dllh = m['fun']-fit_res['fun']\n",
    "            out = np.append(out, dllh)\n",
    "        '''\n",
    "        outputs.append(out)\n",
    "        \n",
    "    return outputs"
   ]
  },
  {
   "cell_type": "code",
   "execution_count": null,
   "metadata": {},
   "outputs": [],
   "source": [
    "events_to_process = len(events)\n",
    "pool_size = 200\n",
    "evts_per_proc = int(math.ceil(events_to_process/pool_size))\n",
    "evt_splits = [events[i*evts_per_proc:(i+1)*evts_per_proc] for i in range(pool_size)]\n",
    "true_splits = [Truth[i*evts_per_proc:(i+1)*evts_per_proc] for i in range(pool_size)]\n",
    "print(sum(len(l) for l in evt_splits))\n",
    "\n",
    "gpu_inds = np.arange(pool_size) % n_gpus\n",
    "\n",
    "fit_events_partial = partial(\n",
    "        fit_events,\n",
    "        ctrl_addrs=ctrl_addrs\n",
    ")"
   ]
  },
  {
   "cell_type": "code",
   "execution_count": null,
   "metadata": {
    "scrolled": true
   },
   "outputs": [],
   "source": [
    "%%time\n",
    "# reconstruct with a worker pool; one LLH client per worker\n",
    "with Pool(pool_size) as p:\n",
    "    outs = p.starmap(fit_events_partial, zip(evt_splits, gpu_inds, true_splits))\n",
    "\n",
    "all_outs = sum((out for out in outs), [])\n",
    "all_outs = np.array(all_outs).reshape((events_to_process, 8)) #9 16"
   ]
  },
  {
   "cell_type": "code",
   "execution_count": null,
   "metadata": {
    "scrolled": false
   },
   "outputs": [],
   "source": [
    "#np.save('../../../freedom/resources/toy_data/toy_reco_3D_nnLLH_CRS_truthSeed', all_outs)\n",
    "Reco_NN = np.array(all_outs)"
   ]
  },
  {
   "cell_type": "code",
   "execution_count": null,
   "metadata": {},
   "outputs": [],
   "source": [
    "# kill all the services\n",
    "import zmq\n",
    "for proc, ctrl_addr in zip(procs, ctrl_addrs): \n",
    "    with zmq.Context.instance().socket(zmq.REQ) as ctrl_sock:\n",
    "        ctrl_sock.connect(ctrl_addr)\n",
    "        ctrl_sock.send_string(\"die\")\n",
    "        proc.join()"
   ]
  },
  {
   "cell_type": "markdown",
   "metadata": {},
   "source": [
    "Minimizer tests"
   ]
  },
  {
   "cell_type": "code",
   "execution_count": null,
   "metadata": {},
   "outputs": [],
   "source": [
    "#from_CoG = np.array(all_outs)\n",
    "from_CoG_low = np.array(all_outs)\n",
    "#from_truth = np.array(all_outs)"
   ]
  },
  {
   "cell_type": "code",
   "execution_count": null,
   "metadata": {},
   "outputs": [],
   "source": [
    "from_truth[:10, -1], from_CoG[:10, -1], from_CoG_low[:10, -1]"
   ]
  },
  {
   "cell_type": "code",
   "execution_count": null,
   "metadata": {},
   "outputs": [],
   "source": [
    "plt.hist(from_truth[:, -1] - from_CoG[:, -1], np.linspace(-20, 7, 109), histtype='step', label='97 livepoints', linewidth=3)\n",
    "plt.hist(from_truth[:, -1] - from_CoG_low[:, -1], np.linspace(-20, 7, 109), histtype='step', label='970 livepoints', linewidth=3)\n",
    "plt.axvline(0, color='black', linestyle=':')\n",
    "plt.legend()\n",
    "plt.xlabel(r'$LLH_{truth} - LLH_{CoG}$')\n",
    "#plt.savefig(plot_path+'/bf_llh_seed_nn', bbox_inches='tight')"
   ]
  },
  {
   "cell_type": "code",
   "execution_count": null,
   "metadata": {},
   "outputs": [],
   "source": [
    "I = 0\n",
    "bins = np.linspace(-4,4,50)\n",
    "plt.hist(from_CoG[:, I] - Truth[:, I], bins, histtype='step', label='97 livepoints', linewidth=3)\n",
    "plt.hist(from_CoG_low[:, I] - Truth[:, I], bins, histtype='step', label='970 livepoints', linewidth=3)\n",
    "plt.hist(from_truth[:, I] - Truth[:, I], bins, histtype='step', label='Truth seed', linewidth=3)\n",
    "plt.axvline(0, color='black', linestyle=':')\n",
    "plt.legend()\n",
    "plt.xlabel(r'$x_{reco} - x_{true}$')\n",
    "#plt.savefig(plot_path+'/x_res_nn', bbox_inches='tight')"
   ]
  },
  {
   "cell_type": "markdown",
   "metadata": {},
   "source": [
    "#### plots"
   ]
  },
  {
   "cell_type": "code",
   "execution_count": null,
   "metadata": {},
   "outputs": [],
   "source": [
    "#Reco, dLLH = np.split(np.load(data_path+'toy_reco_3D_trueLLH_CRS_randomSeed.npy'), 2, axis=1)\n",
    "#Reco_NN, dLLH_NN = np.split(np.load(data_path+'toy_reco_3D_nnLLH_CRS_randomSeed.npy'), 2, axis=1)\n",
    "#Reco = np.load(data_path+'toy_reco_3D_trueLLH_CRS_truthSeed.npy')\n",
    "#Reco_NN = np.load(data_path+'toy_reco_3D_nnLLH_CRS_truthSeed.npy')\n",
    "\n",
    "#Truth = np.load('../../../freedom/resources/toy_data/toy_truth_3D_test.npy')[:len(Reco)]\n",
    "\n",
    "label1, label2 = 'true LLH', 'NN LLH'"
   ]
  },
  {
   "cell_type": "code",
   "execution_count": null,
   "metadata": {},
   "outputs": [],
   "source": [
    "fig = plt.figure(figsize=(20, 17))\n",
    "\n",
    "for i in range(8):\n",
    "    plt.subplot(3,3,i+1)\n",
    "    plt.hist(Reco[:, i], 100, label=label1, histtype='step', linewidth=2)\n",
    "    plt.hist(Reco_NN[:, i], 100, label=label2, histtype='step', linewidth=2)\n",
    "    plt.hist(Truth[:, i], 100, label='Truth', histtype='step', linewidth=2)\n",
    "    plt.legend()\n",
    "    plt.xlabel(par_names[i])\n",
    "    if i in [3, 6, 7]:\n",
    "        plt.yscale('log')\n",
    "#plt.savefig(plot_path+'/reco_dists/param_dists_3D_CRS_randomSeed', bbox_inches='tight')"
   ]
  },
  {
   "cell_type": "code",
   "execution_count": null,
   "metadata": {},
   "outputs": [],
   "source": [
    "fig = plt.figure(figsize=(20, 17))\n",
    "plt.suptitle('Reco - Truth', size=20, y=.91)\n",
    "\n",
    "plt.subplot(3,3,1)\n",
    "plt.axvline(0, color='black', linestyle='--')\n",
    "plot_diff(Reco[:, 0]-Truth[:, 0], np.linspace(-3,3,50), label1)\n",
    "plot_diff(Reco_NN[:, 0]-Truth[:, 0], np.linspace(-3,3,50), label2)\n",
    "plt.legend()\n",
    "plt.xlabel('x')\n",
    "\n",
    "plt.subplot(3,3,2)\n",
    "plt.axvline(0, color='black', linestyle='--')\n",
    "plot_diff(Reco[:, 1]-Truth[:, 1], np.linspace(-3,3,50), label1)\n",
    "plot_diff(Reco_NN[:, 1]-Truth[:, 1], np.linspace(-3,3,50), label2)\n",
    "plt.legend()\n",
    "plt.xlabel('y')\n",
    "\n",
    "plt.subplot(3,3,3)\n",
    "plt.axvline(0, color='black', linestyle='--')\n",
    "plot_diff(Reco[:, 2]-Truth[:, 2], np.linspace(-2,2,50), label1)\n",
    "plot_diff(Reco_NN[:, 2]-Truth[:, 2], np.linspace(-2,2,50), label2)\n",
    "plt.legend()\n",
    "plt.xlabel('z')\n",
    "\n",
    "plt.subplot(3,3,4)\n",
    "plt.axvline(0, color='black', linestyle='--')\n",
    "plot_diff(Reco[:, 3]-Truth[:, 3], np.linspace(-5,5,50), label1)\n",
    "plot_diff(Reco_NN[:, 3]-Truth[:, 3], np.linspace(-5,5,50), label2)\n",
    "plt.legend()\n",
    "plt.xlabel('t')\n",
    "\n",
    "plt.subplot(3,3,5)\n",
    "plt.axvline(0, color='black', linestyle='--')\n",
    "plot_diff(correct_azi(Reco[:, 4]-Truth[:, 4]), np.linspace(-2,2,50), label1)\n",
    "plot_diff(correct_azi(Reco_NN[:, 4]-Truth[:, 4]), np.linspace(-2,2,50), label2)\n",
    "plt.legend()\n",
    "plt.xlabel('azi')\n",
    "\n",
    "plt.subplot(3,3,6)\n",
    "plt.axvline(0, color='black', linestyle='--')\n",
    "plot_diff(Reco[:, 5]-Truth[:, 5], np.linspace(-1,1,50), label1)\n",
    "plot_diff(Reco_NN[:, 5]-Truth[:, 5], np.linspace(-1,1,50), label2)\n",
    "plt.legend()\n",
    "plt.xlabel('zen')\n",
    "\n",
    "plt.subplot(3,3,7)\n",
    "plt.axvline(0, color='black', linestyle='--')\n",
    "plot_diff(Reco[:, 6]-Truth[:, 6], np.linspace(-20,20,50), label1)\n",
    "plot_diff(Reco_NN[:, 6]-Truth[:, 6], np.linspace(-20,20,50), label2)\n",
    "plt.legend()\n",
    "plt.xlabel('Ecscd')\n",
    "\n",
    "plt.subplot(3,3,8)\n",
    "plt.axvline(0, color='black', linestyle='--')\n",
    "plot_diff(Reco[:, 7]-Truth[:, 7], np.linspace(-20,20,50), label1)\n",
    "plot_diff(Reco_NN[:, 7]-Truth[:, 7], np.linspace(-20,20,50), label2)\n",
    "plt.legend()\n",
    "plt.xlabel('Etrck')\n",
    "\n",
    "#plt.savefig(plot_path+'/reco_dists/reco_dists_3D_NM_CoGSeed', bbox_inches='tight')"
   ]
  },
  {
   "cell_type": "code",
   "execution_count": null,
   "metadata": {
    "scrolled": false
   },
   "outputs": [],
   "source": [
    "fig = plt.figure(figsize=(23, 17))\n",
    "\n",
    "cscds = Truth[:, 7] == 0\n",
    "for i in range(8):\n",
    "    plt.subplot(3,3,i+1)\n",
    "    plt.plot([min(Truth[:, i]), max(Truth[:, i])], [min(Truth[:, i]), max(Truth[:, i])], color='black', linestyle='--')\n",
    "    plt.hist2d(Truth[:, i], Reco[:, i], np.linspace(bounds[i][0], bounds[i][1], 20), norm=LogNorm())\n",
    "    #plt.hist2d(Truth[:, i], Reco_NN[:, i], np.linspace(bounds[i][0], bounds[i][1], 20), norm=LogNorm())\n",
    "    plt.colorbar()\n",
    "    #plt.legend()\n",
    "    plt.title(par_names[i])\n",
    "    if i == 7: plt.xlabel('Truth')\n",
    "    if i == 3: plt.ylabel('Reco')\n",
    "#plt.text('Reco')\n",
    "\n",
    "#plt.savefig(plot_path+'/reco_dists/reco_truth_3D_trueLLH_CRS_randomSeed', bbox_inches='tight')"
   ]
  },
  {
   "cell_type": "code",
   "execution_count": null,
   "metadata": {},
   "outputs": [],
   "source": [
    "#plt.hist2d(Reco[:, 0], Reco[:, 1], [np.linspace(bounds[0][0], bounds[0][1], 30), \n",
    "#                                    np.linspace(bounds[1][0], bounds[1][1], 30)])\n",
    "#plt.colorbar()\n",
    "\n",
    "plt.hist(np.cos(Truth[~cscds, 5]), 50, histtype='step')\n",
    "plt.hist(np.cos(Reco[~cscds, 5]), 50, histtype='step');"
   ]
  },
  {
   "cell_type": "markdown",
   "metadata": {},
   "source": [
    "## dLLH"
   ]
  },
  {
   "cell_type": "code",
   "execution_count": null,
   "metadata": {},
   "outputs": [],
   "source": [
    "i = 6\n",
    "\n",
    "if i == 4:\n",
    "    resi = np.abs(correct_azi(Reco_NN[:,i]-Truth[:,i])) #\n",
    "else:\n",
    "    resi = np.abs(Reco_NN[:,i]-Truth[:,i]) #\n",
    "var = par_names[i]\n",
    "\n",
    "dllh = np.nan_to_num(dLLH_NN[:,i]) #\n",
    "dllh_50 = np.percentile(dllh[dllh > 0], 50)\n",
    "dllh_68 = np.percentile(dllh[dllh > 0], 68)\n",
    "\n",
    "print(len(dllh[dllh > 0])/len(dllh))"
   ]
  },
  {
   "cell_type": "code",
   "execution_count": null,
   "metadata": {},
   "outputs": [],
   "source": [
    "plt.title(var)\n",
    "plt.hist(dllh, np.linspace(-20,20,200)) #\n",
    "plt.axvline(dllh_68, color='red', linestyle='--', label='68 percentile %.2f'%(dllh_68))\n",
    "plt.axvline(0, color='black', linestyle=':')\n",
    "plt.legend()\n",
    "plt.xlabel(r'$LLH_{7p} - LLH_{8p}$')\n",
    "plt.ylabel('#events')\n",
    "plt.yscale('log')\n",
    "#plt.savefig('../../../plots/toy_model/dLLH/dLLH_'+var+'_nnLLH', bbox='tight') #+'_truthSeeded'"
   ]
  },
  {
   "cell_type": "code",
   "execution_count": null,
   "metadata": {},
   "outputs": [],
   "source": [
    "dllh_range = np.logspace(-1.5, 1, 10) #-2, 0.8\n",
    "dllh_center = (dllh_range[1:]+dllh_range[:-1])/2\n",
    "medi, mean = [], []\n",
    "for i in range(len(dllh_range)-1):\n",
    "    test = resi[(dllh > dllh_range[i]) & (dllh < dllh_range[i+1])]\n",
    "    if len(test) == 0: test = np.zeros(1)\n",
    "    mean.append(np.mean(test))\n",
    "    medi.append(np.median(test))"
   ]
  },
  {
   "cell_type": "code",
   "execution_count": null,
   "metadata": {},
   "outputs": [],
   "source": [
    "def func(x, a): #, b\n",
    "    return a * np.sqrt(x) #+ b\n",
    "\n",
    "popt_medi, pcov = curve_fit(func, dllh_center, medi)\n",
    "unc_50_medi = func(dllh_50, popt_medi[0]) #, popt_medi[1]\n",
    "\n",
    "popt_mean, pcov = curve_fit(func, dllh_center, mean)\n",
    "unc_68_mean = func(dllh_68, popt_mean[0]) #, popt_mean[1]\n",
    "\n",
    "popt_medi[0], popt_mean[0]"
   ]
  },
  {
   "cell_type": "code",
   "execution_count": null,
   "metadata": {
    "scrolled": false
   },
   "outputs": [],
   "source": [
    "plt.scatter(dllh, resi)\n",
    "\n",
    "plt.scatter(dllh_center, mean, color='r', label='means')\n",
    "plt.plot(dllh_center, func(dllh_center, popt_mean[0]), color='r', label=r'$a\\cdot\\sqrt{x}$ fit to means')\n",
    "plt.axvline(dllh_68, color='red', linestyle='--', label='68 percentile (%.2f, %.2f)'%(dllh_68, unc_68_mean))\n",
    "plt.axhline(unc_68_mean, color='red', linestyle='--')\n",
    "'''\n",
    "plt.scatter(dllh_center, medi, color='black', label='medians')\n",
    "plt.plot(dllh_center, func(dllh_center, popt_medi[0]), color='black', label=r'$a\\cdot\\sqrt{x}$ fit to medians')\n",
    "plt.axvline(dllh_50, color='black', linestyle='--', label='50 percentile (%.2f, %.2f)'%(dllh_50, unc_50_medi))\n",
    "plt.axhline(unc_50_medi, color='black', linestyle='--')\n",
    "'''\n",
    "#plt.axvline(dllh_range[0], color='black')\n",
    "#plt.axvline(dllh_range[-1], color='black')\n",
    "\n",
    "plt.title(var)\n",
    "plt.legend()\n",
    "plt.loglog()\n",
    "plt.xlim(1e-3, 1e2)\n",
    "plt.xlabel(r'$LLH_{7p} - LLH_{8p}$')\n",
    "plt.ylim(1e-3, 150)\n",
    "plt.ylabel('|reco - true|')\n",
    "#plt.savefig('../../../plots/toy_model/dLLH/unc_'+var+'_nnLLH', bbox='tight') #+'_truthSeeded'"
   ]
  },
  {
   "cell_type": "code",
   "execution_count": null,
   "metadata": {},
   "outputs": [],
   "source": []
  }
 ],
 "metadata": {
  "kernelspec": {
   "display_name": "Python 3",
   "language": "python",
   "name": "python3"
  },
  "language_info": {
   "codemirror_mode": {
    "name": "ipython",
    "version": 3
   },
   "file_extension": ".py",
   "mimetype": "text/x-python",
   "name": "python",
   "nbconvert_exporter": "python",
   "pygments_lexer": "ipython3",
   "version": "3.6.9"
  }
 },
 "nbformat": 4,
 "nbformat_minor": 4
}
