{
 "cells": [
  {
   "cell_type": "markdown",
   "metadata": {},
   "source": [
    "# Plots from March 2021 FreeDOM Reco"
   ]
  },
  {
   "cell_type": "code",
   "execution_count": 1,
   "metadata": {},
   "outputs": [],
   "source": [
    "import tables\n",
    "import numpy as np\n",
    "from scipy import stats\n",
    "import dragoman as dm\n",
    "from matplotlib import pyplot as plt\n",
    "from matplotlib import gridspec\n",
    "from freedom.utils.i3frame_dataloader import DEFAULT_LABELS as parnames"
   ]
  },
  {
   "cell_type": "code",
   "execution_count": 2,
   "metadata": {},
   "outputs": [],
   "source": [
    "params = {'legend.fontsize': 16,\n",
    "          'axes.labelsize': 20,\n",
    "          'axes.titlesize': 20,\n",
    "          'xtick.labelsize': 14,\n",
    "          'ytick.labelsize': 14}\n",
    "plt.rcParams.update(params)"
   ]
  },
  {
   "cell_type": "code",
   "execution_count": 3,
   "metadata": {},
   "outputs": [],
   "source": [
    "def fill_variable_dict(name, node, var_dict, n_evts):\n",
    "    print(f\"Loading {name}\")\n",
    "    \n",
    "    if 'vector_index' in node.colnames:\n",
    "        n_rows = n_evts * len(parnames)\n",
    "        for par, parname in zip(node.cols.item[:n_rows].reshape((-1, len(parnames))).T,\n",
    "                                parnames):\n",
    "            var_dict[f\"{name}_{parname}\"] = par\n",
    "    elif 'value' in node.colnames:\n",
    "        var_dict[name] = node.cols.value[:n_evts]\n",
    "    else:\n",
    "        var_dict[name] = node.read(start=0, stop=n_evts)\n",
    "\n",
    "def unpack_file_data(file, n_evts=None):\n",
    "    root = file.root\n",
    "    \n",
    "    if n_evts is None:\n",
    "        n_evts = root.FreeDOM_test_best_LLH.nrows\n",
    "        \n",
    "    var_dict = {}\n",
    "    for node in root:\n",
    "        try:\n",
    "            col_names = node.colnames\n",
    "        except tables.NoSuchNodeError:\n",
    "            continue\n",
    "\n",
    "        name = node.name.replace('FreeDOM_test_', '').replace('_params', '')\n",
    "        name = name.replace('best_fit', 'freedom')\n",
    "        fill_variable_dict(name, node, var_dict, n_evts)\n",
    "        \n",
    "    return var_dict\n",
    "\n",
    "def load_file(f_name, n_evts=None):\n",
    "    with tables.File(f_name) as file:\n",
    "        return dm.PointData(**unpack_file_data(file, n_evts))"
   ]
  },
  {
   "cell_type": "code",
   "execution_count": 5,
   "metadata": {},
   "outputs": [
    {
     "name": "stdout",
     "output_type": "stream",
     "text": [
      "Loading best_LLH\n",
      "Loading freedom\n",
      "Loading delta_T\n",
      "Loading env_mins\n",
      "Loading env_p2\n",
      "Loading env_resid_rms\n",
      "Loading means\n",
      "Loading n_crs_iters\n",
      "Loading n_llh_calls\n",
      "Loading stds\n",
      "Loading truth_LLH\n",
      "Loading I3MCWeightDict\n",
      "Loading L5_SANTA_DirectPulsesHitMultiplicity\n",
      "Loading L7_AllPhotons_PhotonSpeedMetrics\n",
      "Loading L7_CoincidentMuon_Variables\n",
      "Loading L7_CoincidentMuon_bool\n",
      "Loading L7_MuonClassifier_ProbNu\n",
      "Loading L7_PIDClassifier_ProbTrack\n",
      "Loading L7_reconstructed_time\n",
      "Loading L7_reconstructed_total_energy\n",
      "Loading L7_reconstructed_vertex_rho36\n",
      "Loading L7_reconstructed_vertex_z\n",
      "Loading L7_reconstructed_zenith\n",
      "Loading MCDeepCoreStartingEvent\n",
      "Loading MCInIcePrimary\n",
      "Loading interaction_type\n",
      "Loading pdg_id\n",
      "Loading retro\n",
      "Loading true\n",
      "Loaded 8010633 events\n",
      "CPU times: user 2min 28s, sys: 4.15 s, total: 2min 32s\n",
      "Wall time: 2min 32s\n"
     ]
    }
   ],
   "source": [
    "%%time\n",
    "MC = load_file('../../../i3files/recoed/freeDOM_3_21_full_with_weights.hdf5')\n",
    "print(f'Loaded {MC.size} events')"
   ]
  },
  {
   "cell_type": "code",
   "execution_count": 4,
   "metadata": {},
   "outputs": [
    {
     "name": "stdout",
     "output_type": "stream",
     "text": [
      "Loading best_LLH\n",
      "Loading freedom\n",
      "Loading delta_T\n",
      "Loading env_mins\n",
      "Loading env_p2\n",
      "Loading env_resid_rms\n",
      "Loading means\n",
      "Loading n_crs_iters\n",
      "Loading n_llh_calls\n",
      "Loading stds\n",
      "Loading L5_SANTA_DirectPulsesHitMultiplicity\n",
      "Loading L7_AllPhotons_PhotonSpeedMetrics\n",
      "Loading L7_CoincidentMuon_Variables\n",
      "Loading L7_CoincidentMuon_bool\n",
      "Loading L7_MuonClassifier_FullSky_ProbNu\n",
      "Loading L7_MuonClassifier_Upgoing_ProbNu\n",
      "Loading L7_PIDClassifier_FullSky_ProbTrack\n",
      "Loading L7_PIDClassifier_Upgoing_ProbTrack\n",
      "Loading L7_reconstructed_time\n",
      "Loading L7_reconstructed_total_energy\n",
      "Loading L7_reconstructed_vertex_rho36\n",
      "Loading L7_reconstructed_vertex_z\n",
      "Loading L7_reconstructed_zenith\n",
      "Loading retro\n",
      "Loaded 10698 events\n",
      "CPU times: user 352 ms, sys: 28 ms, total: 380 ms\n",
      "Wall time: 370 ms\n"
     ]
    }
   ],
   "source": [
    "%%time\n",
    "data = load_file('../../../i3files/recoed/freeDOM_3_21_data.hdf5')\n",
    "print(f'Loaded {data.size} events')"
   ]
  },
  {
   "cell_type": "code",
   "execution_count": 6,
   "metadata": {},
   "outputs": [
    {
     "name": "stdout",
     "output_type": "stream",
     "text": [
      "Loading best_LLH\n",
      "Loading freedom\n",
      "Loading delta_T\n",
      "Loading env_mins\n",
      "Loading env_p2\n",
      "Loading env_resid_rms\n",
      "Loading means\n",
      "Loading n_crs_iters\n",
      "Loading n_llh_calls\n",
      "Loading stds\n",
      "Loading truth_LLH\n",
      "Loading I3MCWeightDict\n",
      "Loading L5_SANTA_DirectPulsesHitMultiplicity\n",
      "Loading L7_AllPhotons_PhotonSpeedMetrics\n",
      "Loading L7_CoincidentMuon_Variables\n",
      "Loading L7_CoincidentMuon_bool\n",
      "Loading L7_MuonClassifier_ProbNu\n",
      "Loading L7_PIDClassifier_ProbTrack\n",
      "Loading L7_reconstructed_time\n",
      "Loading L7_reconstructed_total_energy\n",
      "Loading L7_reconstructed_vertex_rho36\n",
      "Loading L7_reconstructed_vertex_z\n",
      "Loading L7_reconstructed_zenith\n",
      "Loading MCInIcePrimary\n",
      "Loading pdg_id\n",
      "Loading retro\n",
      "Loading true\n",
      "Loaded 25945 events\n",
      "CPU times: user 572 ms, sys: 0 ns, total: 572 ms\n",
      "Wall time: 564 ms\n"
     ]
    }
   ],
   "source": [
    "%%time\n",
    "muons = load_file('../../../i3files/recoed/freeDOM_3_21_muons.hdf5')\n",
    "print(f'Loaded {muons.size} events')"
   ]
  },
  {
   "cell_type": "code",
   "execution_count": 7,
   "metadata": {},
   "outputs": [],
   "source": [
    "for name in ['retro', 'true', 'freedom']:\n",
    "    MC[f'{name}_total_energy'] = MC[f'{name}_cascade_energy'] + MC[f'{name}_track_energy']\n",
    "    muons[f'{name}_total_energy'] = muons[f'{name}_cascade_energy'] + muons[f'{name}_track_energy']\n",
    "    \n",
    "    MC[f'{name}_rho'] = np.sqrt((46.29-MC[f'{name}_x'])**2 + (-34.88-MC[f'{name}_y'])**2)\n",
    "    muons[f'{name}_rho'] = np.sqrt((46.29-muons[f'{name}_x'])**2 + (-34.88-muons[f'{name}_y'])**2)\n",
    "\n",
    "for name in ['retro', 'freedom']:\n",
    "    data[f'{name}_total_energy'] = data[f'{name}_cascade_energy'] + data[f'{name}_track_energy']\n",
    "    \n",
    "    data[f'{name}_rho'] = np.sqrt((46.29-data[f'{name}_x'])**2 + (-34.88-data[f'{name}_y'])**2)"
   ]
  },
  {
   "cell_type": "markdown",
   "metadata": {},
   "source": [
    "### Access data in I3MCWeightDict, MCInIcePrimary, L5_SANTA_DirectPulsesHitMultiplicity, etc by key:"
   ]
  },
  {
   "cell_type": "code",
   "execution_count": null,
   "metadata": {},
   "outputs": [],
   "source": [
    "d['MCInIcePrimary']['energy'][:4]"
   ]
  },
  {
   "cell_type": "code",
   "execution_count": null,
   "metadata": {},
   "outputs": [],
   "source": [
    "d['MCInIcePrimary']['zenith'][:4]"
   ]
  },
  {
   "cell_type": "code",
   "execution_count": null,
   "metadata": {},
   "outputs": [],
   "source": [
    "d['I3MCWeightDict']['PrimaryNeutrinoEnergy'][:4]"
   ]
  },
  {
   "cell_type": "markdown",
   "metadata": {},
   "source": [
    "Check what keys are available in L5_SANTA_DirectPulsesHitMultiplicity:"
   ]
  },
  {
   "cell_type": "code",
   "execution_count": null,
   "metadata": {},
   "outputs": [],
   "source": [
    "d['L5_SANTA_DirectPulsesHitMultiplicity']['n_hit_doms'][:4]"
   ]
  },
  {
   "cell_type": "code",
   "execution_count": null,
   "metadata": {},
   "outputs": [],
   "source": [
    "def reco_comparison(parname, bins, x_lim=None, y_lim=None, log_x=False, log_y=False):\n",
    "    fig, axes = plt.subplots(nrows=2, ncols=2, figsize=(12,12))\n",
    "    plt.subplots_adjust(hspace=0.3, wspace=0.3)\n",
    "    \n",
    "    axes = axes.flatten()\n",
    "    reco_pars = [f'retro_{parname}', f'freedom_{parname}']\n",
    "    true_par = f'true_{parname}'\n",
    "    for i, reco_par in enumerate(reco_pars):\n",
    "        sub_d = d[[true_par, reco_par]]\n",
    "        \n",
    "        cmap='Greens' if 'retro' in reco_par else 'Blues'\n",
    "        sub_d.histogram(**{true_par:bins}, **{reco_par:bins}).plot('counts', cmap=cmap, ax=axes[2*i])\n",
    "        sub_d.binwise(**{true_par:bins}).quantile(q=[0.05, 0.25, 0.5, 0.75, 0.95]).plot_bands(reco_par,\n",
    "                                                                                              cmap=cmap,\n",
    "                                                                                              ax=axes[2*i + 1],\n",
    "                                                                                              labels=['IQ90', 'IQ50', 'median'])\n",
    "        axes[2*i + 1].legend()\n",
    "            \n",
    "    for ax in axes:\n",
    "        if log_x:\n",
    "            ax.set_xscale('log')\n",
    "        if log_y:\n",
    "            ax.set_yscale('log')\n",
    "\n",
    "        if x_lim is not None:\n",
    "            ax.set_xlim(*x_lim)\n",
    "        if y_lim is not None:\n",
    "            ax.set_ylim(*y_lim)\n",
    "            \n",
    "        x_lim = ax.get_xlim()\n",
    "        ax.plot(x_lim, x_lim, 'r--')\n"
   ]
  },
  {
   "cell_type": "code",
   "execution_count": null,
   "metadata": {},
   "outputs": [],
   "source": [
    "%%time\n",
    "reco_comparison('total_energy', bins=np.logspace(0, 3, 100), \n",
    "                x_lim=(2, 1000), y_lim=(2, 1000), log_x=True, log_y=True)"
   ]
  },
  {
   "cell_type": "code",
   "execution_count": null,
   "metadata": {},
   "outputs": [],
   "source": [
    "%%time\n",
    "reco_comparison('track_energy', bins=np.logspace(0, 3, 100), \n",
    "                x_lim=(2, 1000), y_lim=(2, 1000), log_x=True, log_y=True)"
   ]
  },
  {
   "cell_type": "code",
   "execution_count": null,
   "metadata": {},
   "outputs": [],
   "source": [
    "%%time\n",
    "reco_comparison('cascade_energy', bins=np.logspace(0, 3, 100), \n",
    "                x_lim=(2, 1000), y_lim=(2, 1000), log_x=True, log_y=True)"
   ]
  },
  {
   "cell_type": "code",
   "execution_count": null,
   "metadata": {},
   "outputs": [],
   "source": [
    "%%time\n",
    "reco_comparison('zenith', bins=100)"
   ]
  },
  {
   "cell_type": "code",
   "execution_count": null,
   "metadata": {},
   "outputs": [],
   "source": [
    "%%time\n",
    "reco_comparison('azimuth', bins=100)\n",
    "plt.savefig('az_response.png', bbox_inches='tight')"
   ]
  },
  {
   "cell_type": "code",
   "execution_count": null,
   "metadata": {},
   "outputs": [],
   "source": [
    "%%time\n",
    "reco_comparison('x', bins=500, x_lim=(-200, 300), y_lim=(-150, 300))"
   ]
  },
  {
   "cell_type": "code",
   "execution_count": null,
   "metadata": {},
   "outputs": [],
   "source": [
    "%%time\n",
    "reco_comparison('y', bins=500, x_lim=(-200, 200), y_lim=(-200, 200))"
   ]
  },
  {
   "cell_type": "markdown",
   "metadata": {},
   "source": [
    "### Add derived uncertainty estimates to the dataset"
   ]
  },
  {
   "cell_type": "code",
   "execution_count": null,
   "metadata": {},
   "outputs": [],
   "source": [
    "for par in parnames:\n",
    "    p2s = np.where(d[f'env_p2_{par}'] > 0, d[f'env_p2_{par}'], 1e-9)\n",
    "    d[f'unc_ests_{par}'] = 1/np.sqrt(2*p2s)"
   ]
  },
  {
   "cell_type": "code",
   "execution_count": null,
   "metadata": {},
   "outputs": [],
   "source": [
    "%%time\n",
    "fig, axes = plt.subplots(nrows=2, ncols=2, figsize=(12,12))\n",
    "plt.subplots_adjust(hspace=0.3, wspace=0.3)\n",
    "axes = axes.flatten()\n",
    "bins = np.linspace(-200, 200, 150)\n",
    "cut_val = 1.5\n",
    "for i, reco in enumerate(['freedom', 'retro']):\n",
    "    ax = axes[2*i]\n",
    "    x_key, y_key = f'{reco}_x', f'{reco}_y'\n",
    "    sub_d = d[[x_key, y_key]]\n",
    "    hist = sub_d.histogram(**{x_key:bins, y_key:bins}).plot(cmap='Blues', ax=axes[2*i])\n",
    "    \n",
    "    ax = axes[2*i+1]\n",
    "    cut_sub_d = sub_d[(d['unc_ests_x'] > cut_val) & (d['unc_ests_y'] > cut_val)]\n",
    "    hist = cut_sub_d.histogram(**{x_key:bins, y_key:bins}).plot(cmap='Blues', ax=ax)\n",
    "    ax.set_title(f\"with uncertainty cut\")"
   ]
  },
  {
   "cell_type": "code",
   "execution_count": null,
   "metadata": {},
   "outputs": [],
   "source": [
    "%%time\n",
    "fig, axes = plt.subplots(nrows=1, ncols=2, figsize=(12,6))\n",
    "plt.subplots_adjust(hspace=0.3, wspace=0.3)\n",
    "axes = axes.flatten()\n",
    "z_bins = np.linspace(-500, -200, 150)\n",
    "x_bins = np.linspace(-100, 150, 150)\n",
    "cut_val = 1.5\n",
    "for i, reco in enumerate(['freedom', 'retro']):\n",
    "    ax = axes[i]\n",
    "    x_key, z_key = f'{reco}_x', f'{reco}_z'\n",
    "    sub_d = d[[x_key, z_key]]\n",
    "    hist = sub_d.histogram(**{x_key:x_bins, z_key:z_bins}).plot(cmap='Blues', ax=axes[i])"
   ]
  },
  {
   "cell_type": "code",
   "execution_count": null,
   "metadata": {},
   "outputs": [],
   "source": [
    "for reco in ['freedom', 'retro']:\n",
    "    reco_x = d[f'{reco}_x']\n",
    "    reco_y = d[f'{reco}_y']\n",
    "    \n",
    "    true_x = d['true_x']\n",
    "    true_y = d['true_y']\n",
    "    \n",
    "    rho_dist = np.sqrt((reco_x - true_x)**2 + (reco_y - true_y)**2)\n",
    "    \n",
    "    d[f'{reco}_rho_dist'] = rho_dist\n",
    "    \n",
    "    d[f'{reco}_z_dist'] = d[f'{reco}_z'] - d['true_z']"
   ]
  },
  {
   "cell_type": "code",
   "execution_count": null,
   "metadata": {},
   "outputs": [],
   "source": [
    "fig, axes = plt.subplots(nrows=3, ncols=1, figsize=(12, 12))\n",
    "plt.subplots_adjust(hspace=0.3)\n",
    "axiter = axes.flat\n",
    "x_bins = np.linspace(-50, 150, 400)\n",
    "y_bins = np.linspace(-150, 150, 400)\n",
    "z_bins = np.linspace(-500, -200, 400)\n",
    "for coord, bins in zip(['x', 'y', 'z'], (x_bins, y_bins, z_bins)):\n",
    "    ax = next(axiter)\n",
    "    true_var = f'true_{coord}'\n",
    "    \n",
    "    dist_var = 'rho_dist' if coord != 'z' else 'z_dist'\n",
    "        \n",
    "    binwise_means = d[[f'freedom_{dist_var}', f'retro_{dist_var}', true_var]].binwise(**{true_var:bins}).mean()\n",
    "    binwise_means.plot(f'freedom_{dist_var}', label='FreeDOM', ax=ax)\n",
    "    binwise_means.plot(f'retro_{dist_var}', label='Retro', ax=ax)\n",
    "\n",
    "    ax.legend()\n",
    "    \n",
    "    ax.set_xlabel(f'true {coord}')\n",
    "    \n",
    "    if coord != 'z':\n",
    "        ax.set_ylabel('radial dist')\n",
    "    else:\n",
    "        ax.set_ylabel('z dist')"
   ]
  },
  {
   "cell_type": "code",
   "execution_count": null,
   "metadata": {},
   "outputs": [],
   "source": [
    "%%time\n",
    "fig, axes = plt.subplots(nrows=1, ncols=2, figsize=(12,5))\n",
    "plt.subplots_adjust(wspace=0.3)\n",
    "unc_est_bins = np.logspace(-3.5, 1, 35)\n",
    "for zen_var, ax in zip(['retro_zenith', 'freedom_zenith'], axes.flat):\n",
    "    sub_d = d[['unc_ests_zenith']]\n",
    "    sub_d['zen_error'] = d[zen_var] - d['true_zenith']\n",
    "    sub_d.binwise(unc_ests_zenith=unc_est_bins).quantile(q=[0.05, 0.25, 0.5, 0.75, 0.95]).plot_bands('zen_error', ax=ax)\n",
    "    \n",
    "    ax.set_title(zen_var)\n",
    "    ax.set_xscale('log')                                                                                      "
   ]
  },
  {
   "cell_type": "markdown",
   "metadata": {},
   "source": [
    "Split by flavor & interaction type"
   ]
  },
  {
   "cell_type": "code",
   "execution_count": 8,
   "metadata": {},
   "outputs": [],
   "source": [
    "def split_by_type():\n",
    "    nc_q = MC['interaction_type'] == 2\n",
    "    nc = MC[nc_q]\n",
    "    cc = MC[~nc_q]\n",
    "    abs_id = np.abs(cc['pdg_id'])\n",
    "    e_cc = cc[abs_id == 12]\n",
    "    mu_cc = cc[abs_id == 14]\n",
    "    tau_cc = cc[abs_id == 16]\n",
    "    \n",
    "    return nc, e_cc, mu_cc, tau_cc"
   ]
  },
  {
   "cell_type": "code",
   "execution_count": 9,
   "metadata": {},
   "outputs": [
    {
     "name": "stdout",
     "output_type": "stream",
     "text": [
      "CPU times: user 14.1 s, sys: 5.5 s, total: 19.6 s\n",
      "Wall time: 19.6 s\n"
     ]
    }
   ],
   "source": [
    "%%time\n",
    "nc, e_cc, mu_cc, tau_cc = split_by_type() "
   ]
  },
  {
   "cell_type": "code",
   "execution_count": 10,
   "metadata": {},
   "outputs": [],
   "source": [
    "nu_data = [nc, e_cc, mu_cc, tau_cc]\n",
    "nu_labels = [r'$\\nu_{all}^{NC}$', r'$\\nu_e^{CC}$', r'$\\nu_\\mu^{CC}$', r'$\\nu_\\tau^{CC}$']"
   ]
  },
  {
   "cell_type": "code",
   "execution_count": null,
   "metadata": {},
   "outputs": [],
   "source": [
    "sum(type_d['true_x'].size for type_d in nu_data)"
   ]
  },
  {
   "cell_type": "code",
   "execution_count": null,
   "metadata": {},
   "outputs": [],
   "source": [
    "fig, axes = plt.subplots(nrows=3, ncols=1, figsize=(12, 12))\n",
    "plt.subplots_adjust(hspace=0.3)\n",
    "bins = np.logspace(-1, 3, 100)\n",
    "bins[0] = -1\n",
    "\n",
    "for ax, var in zip(axes.flat, ['true_track_energy', 'retro_track_energy', 'freedom_track_energy']):\n",
    "    for dataset, label in zip(nu_data, nu_labels):\n",
    "        track_e = dataset[[var]]\n",
    "        track_e.histogram(**{var: bins}, density=True).plot('density', ax=ax, label=label)\n",
    "\n",
    "    ax.legend()\n",
    "    ax.grid()\n",
    "    ax.set_yscale('log')\n",
    "    ax.set_xscale('log')\n",
    "    ax.set_xlim(1, 1000)\n",
    "    ax.set_ylim(1e-7, 1)"
   ]
  },
  {
   "cell_type": "markdown",
   "metadata": {},
   "source": [
    "### Some random plots split by interaction type..."
   ]
  },
  {
   "cell_type": "code",
   "execution_count": null,
   "metadata": {},
   "outputs": [],
   "source": [
    "def plot_1d_by_type(par, bins, cut_low=None, cut_high=None, log_x=False, log_y=False, ax=None):\n",
    "    if ax is None:\n",
    "        fig, ax = plt.subplots(figsize=(12, 5))\n",
    "    \n",
    "    for data, label in zip(nu_data, nu_labels):\n",
    "        sub_data = data[[par]]\n",
    "        if cut_low is not None:\n",
    "            sub_data = sub_data[sub_data[par] > cut_low]\n",
    "        if cut_high is not None:\n",
    "            sub_data = sub_data[sub_data[par] < cut_high]\n",
    "            \n",
    "        mean = sub_data[par].mean()\n",
    "        label = f'{label}, mean: {mean:.1f}'\n",
    "        hist = sub_data.histogram(**{par:bins}, density=True).plot(label=label, ax=ax)\n",
    "        \n",
    "    ax.legend()\n",
    "    \n",
    "    if log_x:\n",
    "        ax.set_xscale('log')\n",
    "    if log_y:\n",
    "        ax.set_yscale('log')"
   ]
  },
  {
   "cell_type": "code",
   "execution_count": null,
   "metadata": {},
   "outputs": [],
   "source": [
    "plot_1d_by_type('n_crs_iters', 200, log_y=True)\n",
    "#plt.savefig('n_iters.png', bbox_inches='tight')"
   ]
  },
  {
   "cell_type": "code",
   "execution_count": null,
   "metadata": {},
   "outputs": [],
   "source": [
    "plot_1d_by_type('n_llh_calls', 200, log_y=True)\n",
    "#plt.savefig(\"n_calls.png\", bbox_inches='tight')"
   ]
  },
  {
   "cell_type": "code",
   "execution_count": null,
   "metadata": {},
   "outputs": [],
   "source": [
    "for data in nu_data:\n",
    "    data['delta_llh'] = data['truth_LLH'] - data['best_LLH']\n",
    "# this cut removes the fits that were seeded entirely out of the allowed search region\n",
    "plot_1d_by_type('delta_llh', bins=1000, cut_high=1e8, log_y=True)"
   ]
  },
  {
   "cell_type": "code",
   "execution_count": null,
   "metadata": {},
   "outputs": [],
   "source": [
    "plot_1d_by_type('delta_llh', bins=np.linspace(-10, 40, 1000))"
   ]
  },
  {
   "cell_type": "code",
   "execution_count": null,
   "metadata": {},
   "outputs": [],
   "source": [
    "for data in nu_data:\n",
    "    data['freedom_log_E_diff'] = np.log10(data['freedom_total_energy']) - np.log10(data['true_total_energy'])\n",
    "    data['retro_log_E_diff'] = np.log10(data['retro_total_energy']) - np.log10(data['true_total_energy'])\n",
    "\n",
    "fig, ax = plt.subplots(nrows=2, ncols=1, figsize=(12, 8))\n",
    "plt.subplots_adjust(hspace=0.3)\n",
    "ax = ax.flatten()\n",
    "\n",
    "plot_1d_by_type('freedom_log_E_diff', bins=np.linspace(-1, 1, 200), ax=ax[0])\n",
    "plot_1d_by_type('retro_log_E_diff', bins=np.linspace(-1, 1, 200), ax=ax[1])"
   ]
  },
  {
   "cell_type": "code",
   "execution_count": null,
   "metadata": {},
   "outputs": [],
   "source": [
    "for data in nu_data:\n",
    "    data['freedom_zen_error'] = data['freedom_zenith'] - data['true_zenith']\n",
    "    data['retro_zen_error'] = data['retro_zenith'] - data['true_zenith']\n",
    "\n",
    "fig, ax = plt.subplots(nrows=2, ncols=1, figsize=(12, 8))\n",
    "plt.subplots_adjust(hspace=0.3)\n",
    "ax = ax.flatten()\n",
    "\n",
    "plot_1d_by_type('freedom_zen_error', bins=np.linspace(-1, 1, 200), ax=ax[0])\n",
    "plot_1d_by_type('retro_zen_error', bins=np.linspace(-1, 1, 200), ax=ax[1])"
   ]
  },
  {
   "cell_type": "markdown",
   "metadata": {},
   "source": [
    "## data-mc"
   ]
  },
  {
   "cell_type": "code",
   "execution_count": 11,
   "metadata": {},
   "outputs": [],
   "source": [
    "def cuts(data, Dict):\n",
    "    mask = np.ones(len(data)).astype(np.bool)\n",
    "    mask[Dict['L5_SANTA_DirectPulsesHitMultiplicity']['n_hit_doms']==0] = 0\n",
    "    mask[Dict['L7_AllPhotons_PhotonSpeedMetrics']['speed_median']<=0.4] = 0\n",
    "    mask[Dict['L7_AllPhotons_PhotonSpeedMetrics']['unphysical_fraction']>0.4] = 0\n",
    "    mask[Dict['L7_CoincidentMuon_Variables']['n_top15']>2.2] = 0\n",
    "    mask[Dict['L7_reconstructed_time']>14300] = 0\n",
    "    try:\n",
    "        mask[Dict['L7_MuonClassifier_ProbNu']<0.3] = 0\n",
    "    except:\n",
    "        mask[Dict['L7_MuonClassifier_Upgoing_ProbNu']<0.3] = 0\n",
    "    mask[Dict['L7_reconstructed_vertex_rho36']>250] = 0\n",
    "    return data[mask]"
   ]
  },
  {
   "cell_type": "code",
   "execution_count": 12,
   "metadata": {},
   "outputs": [],
   "source": [
    "nc_weights = np.array(nu_data[0]['I3MCWeightDict']['weight'])\n",
    "nc_weights[np.abs(nu_data[0]['pdg_id'])==12] = nc_weights[np.abs(nu_data[0]['pdg_id'])==12]/650\n",
    "nc_weights[np.abs(nu_data[0]['pdg_id'])==14] = nc_weights[np.abs(nu_data[0]['pdg_id'])==14]/1550\n",
    "nc_weights[np.abs(nu_data[0]['pdg_id'])==16] = nc_weights[np.abs(nu_data[0]['pdg_id'])==16]/350\n",
    "\n",
    "e_weights = np.array(nu_data[1]['I3MCWeightDict']['weight'])/650\n",
    "mu_weights = np.array(nu_data[2]['I3MCWeightDict']['weight'])/1550\n",
    "tau_weights = np.array(nu_data[3]['I3MCWeightDict']['weight'])/350\n",
    "\n",
    "muon_weights = np.array(muons['I3MCWeightDict']['weight'])/3000"
   ]
  },
  {
   "cell_type": "code",
   "execution_count": 35,
   "metadata": {},
   "outputs": [],
   "source": [
    "reco, var, bins = 'retro', 'x', np.linspace(-100,200,20)\n",
    "prefix = reco+'_' #''\n",
    "\n",
    "\n",
    "data_counts, bins = np.histogram(cuts(data[prefix+var], data), bins)\n",
    "data_error = 100*np.sqrt(data_counts)/(9.5*365*24*60*60)\n",
    "data_counts = 100*data_counts/(9.5*365*24*60*60)\n",
    "\n",
    "nu_e_counts, bins = np.histogram(cuts(nu_data[1][prefix+var], nu_data[1]), bins, weights=cuts(e_weights, nu_data[1]))\n",
    "nu_mu_counts, bins = np.histogram(cuts(nu_data[2][prefix+var], nu_data[2]), bins, weights=cuts(mu_weights, nu_data[2]))\n",
    "nu_tau_counts, bins = np.histogram(cuts(nu_data[3][prefix+var], nu_data[3]), bins, weights=cuts(tau_weights, nu_data[3]))\n",
    "nu_nc_counts, bins = np.histogram(cuts(nu_data[0][prefix+var], nu_data[0]), bins, weights=cuts(nc_weights, nu_data[0]))\n",
    "\n",
    "muon_counts, bins = np.histogram(cuts(muons[prefix+var], muons), bins,weights=cuts(muon_weights, muons))\n",
    "\n",
    "\n",
    "mc_counts = nu_e_counts + nu_mu_counts + nu_tau_counts + nu_nc_counts + muon_counts\n",
    "mc_scale = np.sum(data_counts)/np.sum(mc_counts)\n",
    "\n",
    "chi2 = stats.chisquare(data_counts, mc_scale*mc_counts)\n",
    "ks = stats.ks_2samp(data_counts, mc_scale*mc_counts)\n",
    "\n",
    "textstr = '\\n'.join((\n",
    "    r'$\\chi^{2}=%.1e$, p-value=%.2f' % (chi2.statistic, chi2.pvalue),\n",
    "    r'KS=%.2f, p-value=%.2f' % (ks.statistic, ks.pvalue)))\n",
    "props = dict(boxstyle='round', facecolor='wheat', alpha=0.5)"
   ]
  },
  {
   "cell_type": "code",
   "execution_count": 36,
   "metadata": {},
   "outputs": [
    {
     "data": {
      "image/png": "[encoded data removed]",
      "text/plain": [
       "<Figure size 936x936 with 2 Axes>"
      ]
     },
     "metadata": {
      "needs_background": "light"
     },
     "output_type": "display_data"
    }
   ],
   "source": [
    "fig = plt.figure(figsize=(13, 13))\n",
    "gs = gridspec.GridSpec(2, 1, height_ratios=[3, 1]) \n",
    "\n",
    "a0 = plt.subplot(gs[0])\n",
    "a0.bar((bins[:-1]+bins[1:])/2, mc_scale*nu_nc_counts, (bins[1:]-bins[:-1]), label='nu_nc', alpha=0.5)\n",
    "a0.bar((bins[:-1]+bins[1:])/2, mc_scale*nu_e_counts, (bins[1:]-bins[:-1]), bottom=mc_scale*nu_nc_counts, label='nu_e_cc', alpha=0.5)\n",
    "a0.bar((bins[:-1]+bins[1:])/2, mc_scale*nu_mu_counts, (bins[1:]-bins[:-1]), bottom=mc_scale*(nu_nc_counts+nu_e_counts), label='nu_mu_cc', alpha=0.5)\n",
    "a0.bar((bins[:-1]+bins[1:])/2, mc_scale*nu_tau_counts, (bins[1:]-bins[:-1]), bottom=mc_scale*(nu_nc_counts+nu_e_counts+nu_mu_counts), label='nu_tau_cc', alpha=0.5)\n",
    "a0.bar((bins[:-1]+bins[1:])/2, mc_scale*muon_counts, (bins[1:]-bins[:-1]), bottom=mc_scale*(nu_nc_counts+nu_e_counts+nu_mu_counts+nu_tau_counts), label='muons', alpha=0.5)\n",
    "a0.errorbar((bins[:-1]+bins[1:])/2, data_counts, data_error, color='black', label='data', fmt='o')\n",
    "a0.set_title(reco)\n",
    "#a0.set_xscale('log')\n",
    "a0.set_ylabel('Rate [1/s]')\n",
    "a0.text(0.65, 0.45, textstr, transform=a0.transAxes, fontsize=14, verticalalignment='top', bbox=props)\n",
    "a0.legend()\n",
    "\n",
    "a1 = plt.subplot(gs[1])\n",
    "a1.errorbar((bins[:-1]+bins[1:])/2, data_counts/(mc_scale*mc_counts), data_error/(mc_scale*mc_counts), color='black', fmt='o')\n",
    "a1.axhline(1, color='grey', linestyle='--')\n",
    "#a1.set_xscale('log')\n",
    "a1.set_xlabel('reco '+var)\n",
    "a1.set_ylabel('Data/MC')\n",
    "\n",
    "#plt.savefig('../../plots/data/data_mc_reco_'+var+'_'+reco, bbox_inches='tight')"
   ]
  },
  {
   "cell_type": "code",
   "execution_count": 15,
   "metadata": {},
   "outputs": [
    {
     "data": {
      "text/plain": [
       "1.2170422041554287"
      ]
     },
     "execution_count": 15,
     "metadata": {},
     "output_type": "execute_result"
    }
   ],
   "source": [
    "mc_scale"
   ]
  },
  {
   "cell_type": "code",
   "execution_count": null,
   "metadata": {},
   "outputs": [],
   "source": []
  }
 ],
 "metadata": {
  "kernelspec": {
   "display_name": "Python 3",
   "language": "python",
   "name": "python3"
  },
  "language_info": {
   "codemirror_mode": {
    "name": "ipython",
    "version": 3
   },
   "file_extension": ".py",
   "mimetype": "text/x-python",
   "name": "python",
   "nbconvert_exporter": "python",
   "pygments_lexer": "ipython3",
   "version": "3.6.9"
  }
 },
 "nbformat": 4,
 "nbformat_minor": 4
}
