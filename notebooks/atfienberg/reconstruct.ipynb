{
 "cells": [
  {
   "cell_type": "markdown",
   "metadata": {},
   "source": [
    "### Reconstruct all events using four GPUs and the CRS2 spherical optimizer running in batch mode"
   ]
  },
  {
   "cell_type": "code",
   "execution_count": 1,
   "metadata": {},
   "outputs": [],
   "source": [
    "import pickle\n",
    "import math\n",
    "import time\n",
    "import pkg_resources\n",
    "\n",
    "from multiprocessing import Process, Pool\n",
    "from itertools import repeat\n",
    "\n",
    "import numpy as np\n",
    "import pandas as pd\n",
    "\n",
    "from freedom.llh_service.llh_service import LLHService\n",
    "\n",
    "import sys\n",
    "sys.path.append('../../examples/reco/')\n",
    "import reco"
   ]
  },
  {
   "cell_type": "code",
   "execution_count": 2,
   "metadata": {},
   "outputs": [],
   "source": [
    "with open('/home/atfienberg/freedomDataCopy/public_for_aaron/test_events.pkl', 'rb') as f:\n",
    "    events = pickle.load(f)"
   ]
  },
  {
   "cell_type": "code",
   "execution_count": 3,
   "metadata": {},
   "outputs": [],
   "source": [
    "allowed_DOMs = np.load(pkg_resources.resource_filename('freedom', 'resources/allowed_DOMs.npy'))\n",
    "ndoms = len(allowed_DOMs)"
   ]
  },
  {
   "cell_type": "markdown",
   "metadata": {},
   "source": [
    "### Specify n live points"
   ]
  },
  {
   "cell_type": "code",
   "execution_count": 4,
   "metadata": {},
   "outputs": [],
   "source": [
    "n_live_points = 97"
   ]
  },
  {
   "cell_type": "markdown",
   "metadata": {},
   "source": [
    "### Define allowed search ranges and initial box limits"
   ]
  },
  {
   "cell_type": "code",
   "execution_count": 5,
   "metadata": {},
   "outputs": [],
   "source": [
    "init_pos_range = 50\n",
    "\n",
    "time_range = (-1000, 0)\n",
    "\n",
    "log_energy_range = [0, 1.7]\n",
    "\n",
    "init_range = np.array( [[-init_pos_range, init_pos_range],\n",
    "                        [-init_pos_range, init_pos_range],\n",
    "                        [-2*init_pos_range, 2*init_pos_range],\n",
    "                        [time_range[0], time_range[1]],\n",
    "                        [0, 2*math.pi],\n",
    "                        [0, math.pi],\n",
    "                        [log_energy_range[0], log_energy_range[1]],\n",
    "                        [log_energy_range[0], log_energy_range[1]]])\n",
    "\n",
    "# define limits of search range \n",
    "param_search_limits = np.array([\n",
    "    [-200, 200],\n",
    "    [-250, 250],\n",
    "    [-800, -200],\n",
    "    [8000, 11000],\n",
    "    [0, 2*math.pi],\n",
    "    [0, math.pi],\n",
    "    [5, 400],\n",
    "    [0.1, 400]\n",
    "]).T"
   ]
  },
  {
   "cell_type": "markdown",
   "metadata": {},
   "source": [
    "### llh service configuration:"
   ]
  },
  {
   "cell_type": "code",
   "execution_count": 6,
   "metadata": {},
   "outputs": [],
   "source": [
    "service_conf = {\n",
    "        \"poll_timeout\": 1,\n",
    "        \"flush_period\": 1,\n",
    "        \"n_hypo_params\": 8,\n",
    "        \"n_hit_features\": 9,\n",
    "        \"n_evt_features\": 2,\n",
    "        \"batch_size\" : {\n",
    "          \"n_hypos\": 200,\n",
    "          \"n_observations\": 6000, \n",
    "        },\n",
    "        \"send_hwm\": 10000,\n",
    "        \"recv_hwm\": 10000,\n",
    "#         \"hitnet_file\": \"/home/atfienberg/freedomDataCopy/public_for_aaron/HitNet_ranger_30_Jul_2020-15h49/epoch_32_model.hdf5\",\n",
    "#         \"domnet_file\": \"/home/atfienberg/freedomDataCopy/public_for_aaron/DOMNet_reduced_22_Jul_2020-15h18/epoch_30_model.hdf5\",\n",
    "        \"hitnet_file\": \"/home/atfienberg/freedomDataCopy/public_for_aaron/HitNet_ranger_14_Jul_2020-08h03/epoch_32_model.hdf5\",\n",
    "        \"chargenet_file\": \"ChargeNet_nChannels_22_May_2020-11h05/epoch_400_model.hdf5\",\n",
    "        \"ndoms\": ndoms\n",
    "}"
   ]
  },
  {
   "cell_type": "code",
   "execution_count": 7,
   "metadata": {},
   "outputs": [],
   "source": [
    "# add hit_data, evt_data keys based on the networks being used\n",
    "# for now, support domnet and chargenet\n",
    "for event in events:\n",
    "    if service_conf['n_hit_features'] == 8:\n",
    "        event['hit_data'] = event['hits'][:, :8]\n",
    "    else:\n",
    "        event['hit_data'] = event['hits']\n",
    "        \n",
    "    if 'domnet_file' in service_conf:\n",
    "        event['evt_data'] = event['doms'][allowed_DOMs]\n",
    "    else:\n",
    "        event['evt_data'] = event['total_charge']"
   ]
  },
  {
   "cell_type": "markdown",
   "metadata": {},
   "source": [
    "### Build four services, one per GPU"
   ]
  },
  {
   "cell_type": "code",
   "execution_count": 8,
   "metadata": {},
   "outputs": [],
   "source": [
    "n_gpus = 4"
   ]
  },
  {
   "cell_type": "code",
   "execution_count": 9,
   "metadata": {},
   "outputs": [],
   "source": [
    "base_req = \"ipc:///tmp/atfrecotestreq\"\n",
    "base_ctrl = \"ipc:///tmp/atfrecotestctrl\"\n",
    "\n",
    "req_addrs = []\n",
    "ctrl_addrs = []\n",
    "for i in range(n_gpus):\n",
    "    req_addrs.append(f'{base_req}{i}')\n",
    "    ctrl_addrs.append(f'{base_ctrl}{i}')"
   ]
  },
  {
   "cell_type": "code",
   "execution_count": 10,
   "metadata": {},
   "outputs": [
    {
     "name": "stdout",
     "output_type": "stream",
     "text": [
      "['ipc:///tmp/atfrecotestreq0', 'ipc:///tmp/atfrecotestreq1', 'ipc:///tmp/atfrecotestreq2', 'ipc:///tmp/atfrecotestreq3']\n",
      "['ipc:///tmp/atfrecotestctrl0', 'ipc:///tmp/atfrecotestctrl1', 'ipc:///tmp/atfrecotestctrl2', 'ipc:///tmp/atfrecotestctrl3']\n"
     ]
    }
   ],
   "source": [
    "print(req_addrs)\n",
    "print(ctrl_addrs)"
   ]
  },
  {
   "cell_type": "code",
   "execution_count": 11,
   "metadata": {},
   "outputs": [
    {
     "name": "stdout",
     "output_type": "stream",
     "text": [
      "starting service work loop for gpu 3...\n",
      "starting service work loop for gpu 2...\n",
      "starting service work loop for gpu 0...\n",
      "starting service work loop for gpu 1...\n",
      "Received die command... flushing and exiting\n",
      "cleaning up\n",
      "Received die command... flushing and exiting\n",
      "cleaning up\n",
      "Received die command... flushing and exiting\n",
      "cleaning up\n",
      "Received die command... flushing and exiting\n",
      "cleaning up\n"
     ]
    }
   ],
   "source": [
    "procs = []\n",
    "for i in range(n_gpus):\n",
    "    proc = Process(target=reco.start_service, args=(service_conf, ctrl_addrs[i], req_addrs[i] ,i))\n",
    "    proc.start()\n",
    "    procs.append(proc)"
   ]
  },
  {
   "cell_type": "markdown",
   "metadata": {},
   "source": [
    "### Fit a single event"
   ]
  },
  {
   "cell_type": "code",
   "execution_count": 12,
   "metadata": {},
   "outputs": [
    {
     "name": "stdout",
     "output_type": "stream",
     "text": [
      "CPU times: user 404 ms, sys: 44 ms, total: 448 ms\n",
      "Wall time: 8.02 s\n"
     ]
    }
   ],
   "source": [
    "%%time\n",
    "test_out = reco.fit_events(events[:1], 0, ctrl_addrs, init_range, param_search_limits, n_live_points)"
   ]
  },
  {
   "cell_type": "code",
   "execution_count": 13,
   "metadata": {},
   "outputs": [
    {
     "name": "stdout",
     "output_type": "stream",
     "text": [
      "-26.782982\n",
      "-20.648993\n",
      "-19.15583\n",
      "---\n",
      "3239\n",
      "165\n"
     ]
    }
   ],
   "source": [
    "print(test_out[0][0]['fun'])\n",
    "print(test_out[0][1])\n",
    "print(test_out[0][2])\n",
    "print('---')\n",
    "print(test_out[0][0]['n_calls'])\n",
    "print(test_out[0][0]['nit'])"
   ]
  },
  {
   "cell_type": "code",
   "execution_count": 14,
   "metadata": {},
   "outputs": [
    {
     "name": "stdout",
     "output_type": "stream",
     "text": [
      "400\n"
     ]
    }
   ],
   "source": [
    "# events_to_process = len(events)\n",
    "events_to_process = 400\n",
    "pool_size = 200\n",
    "evts_per_proc = int(math.ceil(events_to_process/pool_size))\n",
    "evt_splits = [events[i*evts_per_proc:(i+1)*evts_per_proc] for i in range(pool_size)]\n",
    "print(sum(len(l) for l in evt_splits))"
   ]
  },
  {
   "cell_type": "code",
   "execution_count": 15,
   "metadata": {},
   "outputs": [],
   "source": [
    "gpu_inds = np.arange(pool_size) % n_gpus"
   ]
  },
  {
   "cell_type": "code",
   "execution_count": 16,
   "metadata": {},
   "outputs": [
    {
     "name": "stdout",
     "output_type": "stream",
     "text": [
      "CPU times: user 540 ms, sys: 3.02 s, total: 3.56 s\n",
      "Wall time: 47.2 s\n"
     ]
    }
   ],
   "source": [
    "%%time\n",
    "start = time.time()\n",
    "# reconstruct with a worker pool; one LLH client per worker\n",
    "with Pool(pool_size) as p:\n",
    "    outs = p.starmap(reco.fit_events, zip(evt_splits, gpu_inds, \n",
    "                                          repeat(ctrl_addrs), repeat(init_range), \n",
    "                                          repeat(param_search_limits), repeat(n_live_points)))\n",
    "delta = time.time() - start"
   ]
  },
  {
   "cell_type": "code",
   "execution_count": 17,
   "metadata": {},
   "outputs": [
    {
     "name": "stdout",
     "output_type": "stream",
     "text": [
      "measured time: 0.8 minutes\n"
     ]
    }
   ],
   "source": [
    "print(f'measured time: {delta/60:.1f} minutes')"
   ]
  },
  {
   "cell_type": "code",
   "execution_count": 18,
   "metadata": {},
   "outputs": [
    {
     "name": "stdout",
     "output_type": "stream",
     "text": [
      "400\n"
     ]
    }
   ],
   "source": [
    "print(sum(len(out) for out in outs))"
   ]
  },
  {
   "cell_type": "code",
   "execution_count": 19,
   "metadata": {},
   "outputs": [],
   "source": [
    "n_params = len(events[0]['params'])"
   ]
  },
  {
   "cell_type": "code",
   "execution_count": 20,
   "metadata": {},
   "outputs": [],
   "source": [
    "all_outs = sum((out for out in outs), [])"
   ]
  },
  {
   "cell_type": "markdown",
   "metadata": {},
   "source": [
    "Note: the following timing is from running on four Titan X GPUs in parallel"
   ]
  },
  {
   "cell_type": "code",
   "execution_count": 21,
   "metadata": {},
   "outputs": [
    {
     "name": "stdout",
     "output_type": "stream",
     "text": [
      "1995865 total calls\n",
      "99162 total iters\n",
      "4989.7 calls per event\n",
      "23.66 us per call\n",
      "247.9 iters per event\n",
      "476.16 us per iter\n"
     ]
    }
   ],
   "source": [
    "total_calls = sum(out[0]['n_calls'] for out in all_outs)\n",
    "total_iters = sum(out[0]['nit'] for out in all_outs)\n",
    "print(f'{total_calls} total calls')\n",
    "time_per_call = delta/total_calls\n",
    "print(f'{total_iters} total iters')\n",
    "time_per_iter = delta/total_iters\n",
    "print(f'{total_calls/len(all_outs):.1f} calls per event')\n",
    "print(f'{time_per_call*1e6:.2f} us per call')\n",
    "\n",
    "print(f'{total_iters/len(all_outs):.1f} iters per event')\n",
    "print(f'{time_per_iter*1e6:.2f} us per iter')"
   ]
  },
  {
   "cell_type": "code",
   "execution_count": 22,
   "metadata": {},
   "outputs": [],
   "source": [
    "par_names = ['x', 'y', 'z', 'time',\n",
    "             'azimuth', 'zenith', \n",
    "             'cascade energy', 'track energy']\n",
    "df = reco.build_summary_df(all_outs, par_names)"
   ]
  },
  {
   "cell_type": "code",
   "execution_count": 23,
   "metadata": {},
   "outputs": [
    {
     "name": "stdout",
     "output_type": "stream",
     "text": [
      "free fit better frac: 0.99\n"
     ]
    }
   ],
   "source": [
    "free_f_better = df[df.free_fit_llh < df.retro_p_llh + 10]\n",
    "frac = len(free_f_better)/len(df)\n",
    "print(f'free fit better frac: {frac:.2f}')"
   ]
  },
  {
   "cell_type": "code",
   "execution_count": 24,
   "metadata": {},
   "outputs": [],
   "source": [
    "bad = df[df.free_fit_llh >= df.retro_p_llh + 5]"
   ]
  },
  {
   "cell_type": "code",
   "execution_count": 25,
   "metadata": {},
   "outputs": [
    {
     "data": {
      "text/html": [
       "<div>\n",
       "<style scoped>\n",
       "    .dataframe tbody tr th:only-of-type {\n",
       "        vertical-align: middle;\n",
       "    }\n",
       "\n",
       "    .dataframe tbody tr th {\n",
       "        vertical-align: top;\n",
       "    }\n",
       "\n",
       "    .dataframe thead th {\n",
       "        text-align: right;\n",
       "    }\n",
       "</style>\n",
       "<table border=\"1\" class=\"dataframe\">\n",
       "  <thead>\n",
       "    <tr style=\"text-align: right;\">\n",
       "      <th></th>\n",
       "      <th>evt_idx</th>\n",
       "      <th>free_fit_llh</th>\n",
       "      <th>true_p_llh</th>\n",
       "      <th>retro_p_llh</th>\n",
       "      <th>n_calls</th>\n",
       "      <th>n_iters</th>\n",
       "      <th>x</th>\n",
       "      <th>y</th>\n",
       "      <th>z</th>\n",
       "      <th>time</th>\n",
       "      <th>azimuth</th>\n",
       "      <th>zenith</th>\n",
       "      <th>cascade energy</th>\n",
       "      <th>track energy</th>\n",
       "    </tr>\n",
       "  </thead>\n",
       "  <tbody>\n",
       "    <tr>\n",
       "      <th>59</th>\n",
       "      <td>59</td>\n",
       "      <td>-2.173916e+01</td>\n",
       "      <td>-32.207302</td>\n",
       "      <td>-33.147160</td>\n",
       "      <td>4268</td>\n",
       "      <td>208</td>\n",
       "      <td>182.947175</td>\n",
       "      <td>-248.250557</td>\n",
       "      <td>-692.453500</td>\n",
       "      <td>9475.536676</td>\n",
       "      <td>5.517159</td>\n",
       "      <td>2.354870</td>\n",
       "      <td>5.076019</td>\n",
       "      <td>0.415987</td>\n",
       "    </tr>\n",
       "    <tr>\n",
       "      <th>228</th>\n",
       "      <td>228</td>\n",
       "      <td>-3.102685e+01</td>\n",
       "      <td>-30.454000</td>\n",
       "      <td>-36.645184</td>\n",
       "      <td>5536</td>\n",
       "      <td>265</td>\n",
       "      <td>194.586054</td>\n",
       "      <td>55.769015</td>\n",
       "      <td>-460.530232</td>\n",
       "      <td>9468.533814</td>\n",
       "      <td>6.178632</td>\n",
       "      <td>1.535882</td>\n",
       "      <td>5.023720</td>\n",
       "      <td>23.896223</td>\n",
       "    </tr>\n",
       "    <tr>\n",
       "      <th>296</th>\n",
       "      <td>296</td>\n",
       "      <td>1.000000e+10</td>\n",
       "      <td>-37.760033</td>\n",
       "      <td>-41.822254</td>\n",
       "      <td>97</td>\n",
       "      <td>0</td>\n",
       "      <td>132.899733</td>\n",
       "      <td>28.010456</td>\n",
       "      <td>-221.850347</td>\n",
       "      <td>12109.470241</td>\n",
       "      <td>5.194571</td>\n",
       "      <td>2.622121</td>\n",
       "      <td>11.121643</td>\n",
       "      <td>3.063659</td>\n",
       "    </tr>\n",
       "    <tr>\n",
       "      <th>305</th>\n",
       "      <td>305</td>\n",
       "      <td>-2.606486e+02</td>\n",
       "      <td>-269.864471</td>\n",
       "      <td>-288.172119</td>\n",
       "      <td>5768</td>\n",
       "      <td>286</td>\n",
       "      <td>19.979787</td>\n",
       "      <td>-52.767462</td>\n",
       "      <td>-384.441221</td>\n",
       "      <td>9785.034272</td>\n",
       "      <td>2.329150</td>\n",
       "      <td>2.333220</td>\n",
       "      <td>5.072830</td>\n",
       "      <td>12.536853</td>\n",
       "    </tr>\n",
       "    <tr>\n",
       "      <th>322</th>\n",
       "      <td>322</td>\n",
       "      <td>-3.587344e+01</td>\n",
       "      <td>-37.282921</td>\n",
       "      <td>-44.327633</td>\n",
       "      <td>3996</td>\n",
       "      <td>196</td>\n",
       "      <td>-149.103619</td>\n",
       "      <td>-68.301022</td>\n",
       "      <td>-429.982624</td>\n",
       "      <td>9312.129662</td>\n",
       "      <td>3.159588</td>\n",
       "      <td>1.286287</td>\n",
       "      <td>6.333071</td>\n",
       "      <td>30.480493</td>\n",
       "    </tr>\n",
       "  </tbody>\n",
       "</table>\n",
       "</div>"
      ],
      "text/plain": [
       "     evt_idx  free_fit_llh  true_p_llh  retro_p_llh  n_calls  n_iters  \\\n",
       "59        59 -2.173916e+01  -32.207302   -33.147160     4268      208   \n",
       "228      228 -3.102685e+01  -30.454000   -36.645184     5536      265   \n",
       "296      296  1.000000e+10  -37.760033   -41.822254       97        0   \n",
       "305      305 -2.606486e+02 -269.864471  -288.172119     5768      286   \n",
       "322      322 -3.587344e+01  -37.282921   -44.327633     3996      196   \n",
       "\n",
       "              x           y           z          time   azimuth    zenith  \\\n",
       "59   182.947175 -248.250557 -692.453500   9475.536676  5.517159  2.354870   \n",
       "228  194.586054   55.769015 -460.530232   9468.533814  6.178632  1.535882   \n",
       "296  132.899733   28.010456 -221.850347  12109.470241  5.194571  2.622121   \n",
       "305   19.979787  -52.767462 -384.441221   9785.034272  2.329150  2.333220   \n",
       "322 -149.103619  -68.301022 -429.982624   9312.129662  3.159588  1.286287   \n",
       "\n",
       "     cascade energy  track energy  \n",
       "59         5.076019      0.415987  \n",
       "228        5.023720     23.896223  \n",
       "296       11.121643      3.063659  \n",
       "305        5.072830     12.536853  \n",
       "322        6.333071     30.480493  "
      ]
     },
     "execution_count": 25,
     "metadata": {},
     "output_type": "execute_result"
    }
   ],
   "source": [
    "bad.head()"
   ]
  },
  {
   "cell_type": "code",
   "execution_count": 26,
   "metadata": {},
   "outputs": [],
   "source": [
    "df.to_pickle('./test_out.pkl')"
   ]
  },
  {
   "cell_type": "code",
   "execution_count": 27,
   "metadata": {},
   "outputs": [],
   "source": [
    "# kill all the services\n",
    "import zmq\n",
    "for proc, ctrl_addr in zip(procs, ctrl_addrs): \n",
    "    with zmq.Context.instance().socket(zmq.REQ) as ctrl_sock:\n",
    "        ctrl_sock.connect(ctrl_addr)\n",
    "        ctrl_sock.send_string(\"die\")\n",
    "        proc.join()"
   ]
  }
 ],
 "metadata": {
  "kernelspec": {
   "display_name": "Python 3",
   "language": "python",
   "name": "python3"
  },
  "language_info": {
   "codemirror_mode": {
    "name": "ipython",
    "version": 3
   },
   "file_extension": ".py",
   "mimetype": "text/x-python",
   "name": "python",
   "nbconvert_exporter": "python",
   "pygments_lexer": "ipython3",
   "version": "3.7.3"
  }
 },
 "nbformat": 4,
 "nbformat_minor": 4
}
