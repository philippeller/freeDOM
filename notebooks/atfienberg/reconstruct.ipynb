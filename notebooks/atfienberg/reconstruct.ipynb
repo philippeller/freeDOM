{
 "cells": [
  {
   "cell_type": "markdown",
   "metadata": {},
   "source": [
    "### Reconstruct all events using four GPUs and the CRS2 spherical optimizer running in batch mode"
   ]
  },
  {
   "cell_type": "code",
   "execution_count": 1,
   "metadata": {},
   "outputs": [],
   "source": [
    "import pickle\n",
    "import math\n",
    "import time\n",
    "from multiprocessing import Process, Pool\n",
    "import pkg_resources\n",
    "\n",
    "import numpy as np\n",
    "import pandas as pd\n",
    "\n",
    "from freedom.llh_service.llh_service import LLHService\n",
    "from freedom.llh_service.llh_client import LLHClient\n",
    "\n",
    "from spherical_opt import spherical_opt"
   ]
  },
  {
   "cell_type": "code",
   "execution_count": 2,
   "metadata": {},
   "outputs": [],
   "source": [
    "with open('/home/atfienberg/freedomDataCopy/public_for_aaron/test_events.pkl', 'rb') as f:\n",
    "    events = pickle.load(f)"
   ]
  },
  {
   "cell_type": "code",
   "execution_count": 3,
   "metadata": {},
   "outputs": [],
   "source": [
    "allowed_DOMs = np.load(pkg_resources.resource_filename('freedom', 'resources/allowed_DOMs.npy'))\n",
    "ndoms = len(allowed_DOMs)"
   ]
  },
  {
   "cell_type": "markdown",
   "metadata": {},
   "source": [
    "### llh service configuration:"
   ]
  },
  {
   "cell_type": "code",
   "execution_count": 4,
   "metadata": {},
   "outputs": [],
   "source": [
    "service_conf = {\n",
    "        \"poll_timeout\": 1,\n",
    "        \"flush_period\": 1,\n",
    "        \"n_hypo_params\": 8,\n",
    "        \"n_hit_features\": 8,\n",
    "        \"n_evt_features\": ndoms*4,\n",
    "        \"batch_size\" : {\n",
    "          \"n_hypos\": 200,\n",
    "          \"n_observations\": 6000, \n",
    "        },\n",
    "        \"send_hwm\": 10000,\n",
    "        \"recv_hwm\": 10000,\n",
    "        \"hitnet_file\": \"/home/atfienberg/freedomDataCopy/public_for_aaron/HitNet_ranger_30_Jul_2020-15h49/epoch_32_model.hdf5\",\n",
    "        \"domnet_file\": \"/home/atfienberg/freedomDataCopy/public_for_aaron/DOMNet_reduced_22_Jul_2020-15h18/epoch_30_model.hdf5\",\n",
    "        \"ndoms\": ndoms\n",
    "}"
   ]
  },
  {
   "cell_type": "markdown",
   "metadata": {},
   "source": [
    "### Build four services, one per GPU"
   ]
  },
  {
   "cell_type": "code",
   "execution_count": 5,
   "metadata": {},
   "outputs": [],
   "source": [
    "n_gpus = 4"
   ]
  },
  {
   "cell_type": "code",
   "execution_count": 6,
   "metadata": {},
   "outputs": [],
   "source": [
    "base_req = \"ipc:///tmp/atfrecotestreq\"\n",
    "base_ctrl = \"ipc:///tmp/atfrecotestctrl\"\n",
    "\n",
    "req_addrs = []\n",
    "ctrl_addrs = []\n",
    "for i in range(n_gpus):\n",
    "    req_addrs.append(f'{base_req}{i}')\n",
    "    ctrl_addrs.append(f'{base_ctrl}{i}')"
   ]
  },
  {
   "cell_type": "code",
   "execution_count": 7,
   "metadata": {},
   "outputs": [
    {
     "name": "stdout",
     "output_type": "stream",
     "text": [
      "['ipc:///tmp/atfrecotestreq0', 'ipc:///tmp/atfrecotestreq1', 'ipc:///tmp/atfrecotestreq2', 'ipc:///tmp/atfrecotestreq3']\n",
      "['ipc:///tmp/atfrecotestctrl0', 'ipc:///tmp/atfrecotestctrl1', 'ipc:///tmp/atfrecotestctrl2', 'ipc:///tmp/atfrecotestctrl3']\n"
     ]
    }
   ],
   "source": [
    "print(req_addrs)\n",
    "print(ctrl_addrs)"
   ]
  },
  {
   "cell_type": "code",
   "execution_count": 8,
   "metadata": {},
   "outputs": [
    {
     "name": "stdout",
     "output_type": "stream",
     "text": [
      "starting work loop...\n",
      "starting work loop...\n",
      "starting work loop...\n",
      "starting work loop...\n",
      "Received die command... flushing and exiting\n",
      "cleaning up\n",
      "done\n",
      "Received die command... flushing and exiting\n",
      "cleaning up\n",
      "done\n",
      "Received die command... flushing and exiting\n",
      "cleaning up\n",
      "done\n",
      "Received die command... flushing and exiting\n",
      "cleaning up\n",
      "done\n"
     ]
    }
   ],
   "source": [
    "def start_service(params, index):\n",
    "    # use a single GPU\n",
    "    import os\n",
    "    os.environ['CUDA_VISIBLE_DEVICES'] = f'{index}'\n",
    "    \n",
    "    params = params.copy()\n",
    "    params['ctrl_addr'] = ctrl_addrs[index]\n",
    "    params['req_addr' ] = req_addrs[index]\n",
    "    with LLHService(**params) as serv:\n",
    "        print('starting work loop...')\n",
    "        serv.start_work_loop()\n",
    "        \n",
    "    print('done')\n",
    "\n",
    "procs = []\n",
    "for i in range(n_gpus):\n",
    "    proc = Process(target=start_service, args=(service_conf, i))\n",
    "    proc.start()\n",
    "    procs.append(proc)"
   ]
  },
  {
   "cell_type": "code",
   "execution_count": 9,
   "metadata": {},
   "outputs": [],
   "source": [
    "init_pos_range = 50\n",
    "\n",
    "time_range = (-1000, 0)\n",
    "\n",
    "log_energy_range = [-1, 2]\n",
    "\n",
    "# define limits of search range \n",
    "param_search_limits = np.array([\n",
    "    [-200, 200],\n",
    "    [-250, 250],\n",
    "    [-800, -200],\n",
    "    [8000, 11000],\n",
    "    [0, 2*math.pi],\n",
    "    [0, math.pi],\n",
    "    [0.1, 100],\n",
    "    [0.1, 100]\n",
    "]).T"
   ]
  },
  {
   "cell_type": "markdown",
   "metadata": {},
   "source": [
    "### Functions for fitting"
   ]
  },
  {
   "cell_type": "code",
   "execution_count": 10,
   "metadata": {},
   "outputs": [],
   "source": [
    "def initial_box(hits, charge_ind=4, n_params=8):\n",
    "    ''' returns initial box limits for each dimension\n",
    "    in the form of a n_params x 2 table\n",
    "    '''\n",
    "    \n",
    "    # charge weighted positions, time\n",
    "    hit_avgs = np.average(hits, weights=hits[:, charge_ind], axis=0)[:4]\n",
    "    \n",
    "    limits = np.empty((n_params, 2), np.float32)\n",
    "    \n",
    "    # x, y, z range from average - init_pos_range to average + average + init_pos_range\n",
    "    limits[:3, 0] = hit_avgs[:3] - init_pos_range\n",
    "    limits[:3, 1] = hit_avgs[:3] + init_pos_range\n",
    "    \n",
    "    # time is time average + time_range[0] to average + time_range[1]\n",
    "    limits[3, 0] = hit_avgs[3] + time_range[0]\n",
    "    limits[3, 1] = hit_avgs[3] + time_range[1]\n",
    "        \n",
    "    # azimuth from 0 to 2pi\n",
    "    limits[4] = [0, 2*math.pi]\n",
    "    \n",
    "    # zenith from 0 to pi\n",
    "    limits[5] = [0, math.pi]\n",
    "    \n",
    "    # log energies from log_energy_range\n",
    "    limits[6:, 0] = log_energy_range[0]\n",
    "    limits[6:, 1] = log_energy_range[1]\n",
    " \n",
    "    return limits\n",
    "\n",
    "def out_of_bounds(params, limits=param_search_limits):\n",
    "    '''returns boolean array, True for param rows that are out of bounds'''\n",
    "    return ~np.alltrue(np.logical_and(limits[0] <= params, params <= limits[1]), axis=-1)"
   ]
  },
  {
   "cell_type": "code",
   "execution_count": 11,
   "metadata": {},
   "outputs": [],
   "source": [
    "NAN_REPLACE_VAL = 1e9\n",
    "\n",
    "def nan_replace(nll):\n",
    "    # replace nans with valid, large values \n",
    "    nll[np.isnan(nll)] = NAN_REPLACE_VAL\n",
    "    return nll\n",
    "\n",
    "def get_batch_closure(client, event):\n",
    "    def eval_llh(params):\n",
    "        llhs = client.eval_llh(event['hits'][:, :8], event['doms'][allowed_DOMs], params)\n",
    "        \n",
    "        llhs = np.atleast_1d(llhs)\n",
    "        \n",
    "        llhs = nan_replace(llhs)\n",
    "        \n",
    "        clipped_params = np.copy(params)\n",
    "        \n",
    "        llhs[out_of_bounds(params)] = NAN_REPLACE_VAL\n",
    "            \n",
    "        return llhs\n",
    "    return eval_llh\n",
    "\n",
    "def batch_crs_fit(event, client, rng):\n",
    "    eval_llh = get_batch_closure(client, event)\n",
    "    \n",
    "    box_limits = initial_box(event['hits'])\n",
    "    \n",
    "    n_params = len(event['params'])\n",
    "    \n",
    "    uniforms = rng.uniform(size=(97, n_params))\n",
    "\n",
    "    initial_points = box_limits[:, 0] + uniforms*(box_limits[:,1] - box_limits[:, 0])\n",
    "    \n",
    "    # energy parameters need to be converted from log energy to energy\n",
    "    initial_points[:, 6:] = 10**initial_points[:, 6:]\n",
    "    \n",
    "    opt_ret = spherical_opt.spherical_opt(\n",
    "                        func=eval_llh, \n",
    "                        method=\"CRS2\", \n",
    "                        initial_points=initial_points,\n",
    "                        spherical_indices=[[4,5]],\n",
    "                        max_iter=10000,\n",
    "                        batch_size=12,\n",
    "                        rand=rng) \n",
    "    \n",
    "    return opt_ret"
   ]
  },
  {
   "cell_type": "code",
   "execution_count": 12,
   "metadata": {},
   "outputs": [],
   "source": [
    "def fit_events(events, index=0):\n",
    "    rng = np.random.default_rng()\n",
    "    \n",
    "    outputs = []\n",
    "        \n",
    "    client = LLHClient(\n",
    "                    ctrl_addr=ctrl_addrs[index],\n",
    "                    conf_timeout=60000\n",
    "                  )\n",
    "    \n",
    "    for event in events:\n",
    "        fit_res = batch_crs_fit(event, client, rng)\n",
    "        \n",
    "        true_param_llh = client.eval_llh(event['hits'][:, :8], \n",
    "                                         event['doms'][allowed_DOMs],\n",
    "                                         event['params'])\n",
    "        retro_param_llh = client.eval_llh(event['hits'][:, :8],\n",
    "                                          event['doms'][allowed_DOMs],\n",
    "                                          event['retro'])\n",
    "        \n",
    "        outputs.append((fit_res, true_param_llh, retro_param_llh))\n",
    "                \n",
    "    return outputs"
   ]
  },
  {
   "cell_type": "markdown",
   "metadata": {},
   "source": [
    "### Fit a single event"
   ]
  },
  {
   "cell_type": "code",
   "execution_count": 13,
   "metadata": {},
   "outputs": [
    {
     "name": "stdout",
     "output_type": "stream",
     "text": [
      "CPU times: user 600 ms, sys: 56 ms, total: 656 ms\n",
      "Wall time: 24.3 s\n"
     ]
    }
   ],
   "source": [
    "%%time\n",
    "test_out = fit_events(events[:1])"
   ]
  },
  {
   "cell_type": "code",
   "execution_count": 14,
   "metadata": {},
   "outputs": [
    {
     "name": "stdout",
     "output_type": "stream",
     "text": [
      "-34.666374\n",
      "-31.858068\n",
      "-27.370792\n",
      "---\n",
      "4020\n",
      "196\n"
     ]
    }
   ],
   "source": [
    "print(test_out[0][0]['fun'])\n",
    "print(test_out[0][1])\n",
    "print(test_out[0][2])\n",
    "print('---')\n",
    "print(test_out[0][0]['n_calls'])\n",
    "print(test_out[0][0]['nit'])"
   ]
  },
  {
   "cell_type": "code",
   "execution_count": 15,
   "metadata": {},
   "outputs": [
    {
     "name": "stdout",
     "output_type": "stream",
     "text": [
      "2963\n"
     ]
    }
   ],
   "source": [
    "events_to_process = len(events)\n",
    "# events_to_process = 400\n",
    "pool_size = 100\n",
    "evts_per_proc = int(math.ceil(events_to_process/pool_size))\n",
    "evt_splits = [events[i*evts_per_proc:(i+1)*evts_per_proc] for i in range(pool_size)]\n",
    "print(sum(len(l) for l in evt_splits))"
   ]
  },
  {
   "cell_type": "code",
   "execution_count": 16,
   "metadata": {},
   "outputs": [],
   "source": [
    "gpu_inds = np.arange(pool_size) % n_gpus"
   ]
  },
  {
   "cell_type": "code",
   "execution_count": 17,
   "metadata": {},
   "outputs": [
    {
     "name": "stdout",
     "output_type": "stream",
     "text": [
      "CPU times: user 6.78 s, sys: 8.66 s, total: 15.4 s\n",
      "Wall time: 30min 35s\n"
     ]
    }
   ],
   "source": [
    "%%time\n",
    "start = time.time()\n",
    "# reconstruct with a worker pool; one LLH client per worker\n",
    "with Pool(pool_size) as p:\n",
    "    outs = p.starmap(fit_events, zip(evt_splits, gpu_inds))\n",
    "delta = time.time() - start"
   ]
  },
  {
   "cell_type": "code",
   "execution_count": 18,
   "metadata": {},
   "outputs": [
    {
     "name": "stdout",
     "output_type": "stream",
     "text": [
      "measured time: 30.6 minutes\n"
     ]
    }
   ],
   "source": [
    "print(f'measured time: {delta/60:.1f} minutes')"
   ]
  },
  {
   "cell_type": "code",
   "execution_count": 19,
   "metadata": {},
   "outputs": [
    {
     "name": "stdout",
     "output_type": "stream",
     "text": [
      "2963\n"
     ]
    }
   ],
   "source": [
    "print(sum(len(out) for out in outs))"
   ]
  },
  {
   "cell_type": "code",
   "execution_count": 20,
   "metadata": {},
   "outputs": [],
   "source": [
    "n_params = len(events[0]['params'])"
   ]
  },
  {
   "cell_type": "code",
   "execution_count": 21,
   "metadata": {},
   "outputs": [],
   "source": [
    "all_outs = sum((out for out in outs), [])"
   ]
  },
  {
   "cell_type": "markdown",
   "metadata": {},
   "source": [
    "Note: the following timing is from running on four Titan X GPUs in parallel"
   ]
  },
  {
   "cell_type": "code",
   "execution_count": 22,
   "metadata": {},
   "outputs": [
    {
     "name": "stdout",
     "output_type": "stream",
     "text": [
      "13789402 total calls\n",
      "690397 total iters\n",
      "4653.9 calls per event\n",
      "133.08 us per call\n",
      "233.0 iters per event\n",
      "2658.01 us per iter\n"
     ]
    }
   ],
   "source": [
    "total_calls = sum(out[0]['n_calls'] for out in all_outs)\n",
    "total_iters = sum(out[0]['nit'] for out in all_outs)\n",
    "print(f'{total_calls} total calls')\n",
    "time_per_call = delta/total_calls\n",
    "print(f'{total_iters} total iters')\n",
    "time_per_iter = delta/total_iters\n",
    "print(f'{total_calls/len(all_outs):.1f} calls per event')\n",
    "print(f'{time_per_call*1e6:.2f} us per call')\n",
    "\n",
    "print(f'{total_iters/len(all_outs):.1f} iters per event')\n",
    "print(f'{time_per_iter*1e6:.2f} us per iter')"
   ]
  },
  {
   "cell_type": "code",
   "execution_count": 23,
   "metadata": {},
   "outputs": [
    {
     "data": {
      "text/html": [
       "<div>\n",
       "<style scoped>\n",
       "    .dataframe tbody tr th:only-of-type {\n",
       "        vertical-align: middle;\n",
       "    }\n",
       "\n",
       "    .dataframe tbody tr th {\n",
       "        vertical-align: top;\n",
       "    }\n",
       "\n",
       "    .dataframe thead th {\n",
       "        text-align: right;\n",
       "    }\n",
       "</style>\n",
       "<table border=\"1\" class=\"dataframe\">\n",
       "  <thead>\n",
       "    <tr style=\"text-align: right;\">\n",
       "      <th></th>\n",
       "      <th>evt_idx</th>\n",
       "      <th>free_fit_llh</th>\n",
       "      <th>true_p_llh</th>\n",
       "      <th>retro_p_llh</th>\n",
       "      <th>n_calls</th>\n",
       "      <th>n_iters</th>\n",
       "      <th>x</th>\n",
       "      <th>y</th>\n",
       "      <th>z</th>\n",
       "      <th>time</th>\n",
       "      <th>azimuth</th>\n",
       "      <th>zenith</th>\n",
       "      <th>cascade energy</th>\n",
       "      <th>track energy</th>\n",
       "    </tr>\n",
       "  </thead>\n",
       "  <tbody>\n",
       "    <tr>\n",
       "      <th>0</th>\n",
       "      <td>0</td>\n",
       "      <td>-34.461761</td>\n",
       "      <td>-31.858068</td>\n",
       "      <td>-27.370792</td>\n",
       "      <td>2906</td>\n",
       "      <td>145</td>\n",
       "      <td>-23.323169</td>\n",
       "      <td>-6.585221</td>\n",
       "      <td>-259.677067</td>\n",
       "      <td>9797.042344</td>\n",
       "      <td>5.036371</td>\n",
       "      <td>1.051212</td>\n",
       "      <td>8.933672</td>\n",
       "      <td>0.434484</td>\n",
       "    </tr>\n",
       "    <tr>\n",
       "      <th>1</th>\n",
       "      <td>1</td>\n",
       "      <td>-96.201569</td>\n",
       "      <td>-90.545250</td>\n",
       "      <td>-88.510056</td>\n",
       "      <td>5989</td>\n",
       "      <td>293</td>\n",
       "      <td>65.400763</td>\n",
       "      <td>-70.280209</td>\n",
       "      <td>-269.121384</td>\n",
       "      <td>9853.956884</td>\n",
       "      <td>4.272805</td>\n",
       "      <td>2.028426</td>\n",
       "      <td>3.612497</td>\n",
       "      <td>0.291329</td>\n",
       "    </tr>\n",
       "    <tr>\n",
       "      <th>2</th>\n",
       "      <td>2</td>\n",
       "      <td>-202.435959</td>\n",
       "      <td>-178.864670</td>\n",
       "      <td>-188.484695</td>\n",
       "      <td>7485</td>\n",
       "      <td>362</td>\n",
       "      <td>31.326009</td>\n",
       "      <td>45.812867</td>\n",
       "      <td>-314.598394</td>\n",
       "      <td>9797.352458</td>\n",
       "      <td>2.351043</td>\n",
       "      <td>2.323403</td>\n",
       "      <td>7.053778</td>\n",
       "      <td>1.248822</td>\n",
       "    </tr>\n",
       "    <tr>\n",
       "      <th>3</th>\n",
       "      <td>3</td>\n",
       "      <td>-40.531330</td>\n",
       "      <td>-35.013790</td>\n",
       "      <td>-26.499874</td>\n",
       "      <td>3110</td>\n",
       "      <td>156</td>\n",
       "      <td>11.344962</td>\n",
       "      <td>-71.752687</td>\n",
       "      <td>-359.520088</td>\n",
       "      <td>9774.843775</td>\n",
       "      <td>2.339840</td>\n",
       "      <td>2.171221</td>\n",
       "      <td>3.204777</td>\n",
       "      <td>1.300684</td>\n",
       "    </tr>\n",
       "    <tr>\n",
       "      <th>4</th>\n",
       "      <td>4</td>\n",
       "      <td>-45.383133</td>\n",
       "      <td>-41.375755</td>\n",
       "      <td>-39.881035</td>\n",
       "      <td>5511</td>\n",
       "      <td>261</td>\n",
       "      <td>108.355228</td>\n",
       "      <td>-62.424106</td>\n",
       "      <td>-482.344295</td>\n",
       "      <td>9855.216802</td>\n",
       "      <td>4.605943</td>\n",
       "      <td>1.596494</td>\n",
       "      <td>1.988044</td>\n",
       "      <td>0.755337</td>\n",
       "    </tr>\n",
       "  </tbody>\n",
       "</table>\n",
       "</div>"
      ],
      "text/plain": [
       "   evt_idx  free_fit_llh  true_p_llh  retro_p_llh  n_calls  n_iters  \\\n",
       "0        0    -34.461761  -31.858068   -27.370792     2906      145   \n",
       "1        1    -96.201569  -90.545250   -88.510056     5989      293   \n",
       "2        2   -202.435959 -178.864670  -188.484695     7485      362   \n",
       "3        3    -40.531330  -35.013790   -26.499874     3110      156   \n",
       "4        4    -45.383133  -41.375755   -39.881035     5511      261   \n",
       "\n",
       "            x          y           z         time   azimuth    zenith  \\\n",
       "0  -23.323169  -6.585221 -259.677067  9797.042344  5.036371  1.051212   \n",
       "1   65.400763 -70.280209 -269.121384  9853.956884  4.272805  2.028426   \n",
       "2   31.326009  45.812867 -314.598394  9797.352458  2.351043  2.323403   \n",
       "3   11.344962 -71.752687 -359.520088  9774.843775  2.339840  2.171221   \n",
       "4  108.355228 -62.424106 -482.344295  9855.216802  4.605943  1.596494   \n",
       "\n",
       "   cascade energy  track energy  \n",
       "0        8.933672      0.434484  \n",
       "1        3.612497      0.291329  \n",
       "2        7.053778      1.248822  \n",
       "3        3.204777      1.300684  \n",
       "4        1.988044      0.755337  "
      ]
     },
     "execution_count": 23,
     "metadata": {},
     "output_type": "execute_result"
    }
   ],
   "source": [
    "### Build df\n",
    "evt_idx = []\n",
    "free_fit_llhs = []\n",
    "true_param_llhs = []\n",
    "retro_param_llhs = []\n",
    "n_calls = []\n",
    "n_iters = []\n",
    "best_fit_ps = [[] for _ in range(n_params)]\n",
    "\n",
    "for i, out in enumerate(all_outs):\n",
    "    freedom_params = out[0]['x']\n",
    "    freedom_llh = out[0]['fun']\n",
    "    n_calls.append(out[0]['n_calls'])\n",
    "    n_iters.append(out[0]['nit'])\n",
    "    \n",
    "    evt_idx.append(i)\n",
    "    free_fit_llhs.append(freedom_llh)\n",
    "    true_param_llhs.append(out[1])\n",
    "    retro_param_llhs.append(out[2])\n",
    "    for p_ind, p in enumerate(freedom_params):\n",
    "        best_fit_ps[p_ind].append(p)\n",
    "        \n",
    "par_names = ['x', 'y', 'z', 'time',\n",
    "             'azimuth', 'zenith', \n",
    "             'cascade energy', 'track energy']\n",
    "\n",
    "df_dict = dict(evt_idx=evt_idx, free_fit_llh=free_fit_llhs, \n",
    "               true_p_llh=true_param_llhs, retro_p_llh=retro_param_llhs,\n",
    "               n_calls=n_calls, n_iters=n_iters)\n",
    "\n",
    "for p_name, p_list in zip(par_names, best_fit_ps):\n",
    "    df_dict[p_name] = p_list\n",
    "    \n",
    "df = pd.DataFrame(df_dict)\n",
    "df.head()"
   ]
  },
  {
   "cell_type": "code",
   "execution_count": 24,
   "metadata": {},
   "outputs": [
    {
     "name": "stdout",
     "output_type": "stream",
     "text": [
      "free fit better frac: 0.98\n"
     ]
    }
   ],
   "source": [
    "free_f_better = df[df.free_fit_llh < df.retro_p_llh + 10]\n",
    "frac = len(free_f_better)/len(df)\n",
    "print(f'free fit better frac: {frac:.2f}')"
   ]
  },
  {
   "cell_type": "code",
   "execution_count": 25,
   "metadata": {},
   "outputs": [],
   "source": [
    "bad = df[df.free_fit_llh >= df.retro_p_llh + 5]"
   ]
  },
  {
   "cell_type": "code",
   "execution_count": 26,
   "metadata": {},
   "outputs": [
    {
     "data": {
      "text/html": [
       "<div>\n",
       "<style scoped>\n",
       "    .dataframe tbody tr th:only-of-type {\n",
       "        vertical-align: middle;\n",
       "    }\n",
       "\n",
       "    .dataframe tbody tr th {\n",
       "        vertical-align: top;\n",
       "    }\n",
       "\n",
       "    .dataframe thead th {\n",
       "        text-align: right;\n",
       "    }\n",
       "</style>\n",
       "<table border=\"1\" class=\"dataframe\">\n",
       "  <thead>\n",
       "    <tr style=\"text-align: right;\">\n",
       "      <th></th>\n",
       "      <th>evt_idx</th>\n",
       "      <th>free_fit_llh</th>\n",
       "      <th>true_p_llh</th>\n",
       "      <th>retro_p_llh</th>\n",
       "      <th>n_calls</th>\n",
       "      <th>n_iters</th>\n",
       "      <th>x</th>\n",
       "      <th>y</th>\n",
       "      <th>z</th>\n",
       "      <th>time</th>\n",
       "      <th>azimuth</th>\n",
       "      <th>zenith</th>\n",
       "      <th>cascade energy</th>\n",
       "      <th>track energy</th>\n",
       "    </tr>\n",
       "  </thead>\n",
       "  <tbody>\n",
       "    <tr>\n",
       "      <th>53</th>\n",
       "      <td>53</td>\n",
       "      <td>-22.293381</td>\n",
       "      <td>-36.338837</td>\n",
       "      <td>-42.369255</td>\n",
       "      <td>2666</td>\n",
       "      <td>138</td>\n",
       "      <td>37.061517</td>\n",
       "      <td>-74.601142</td>\n",
       "      <td>-586.969872</td>\n",
       "      <td>9205.867274</td>\n",
       "      <td>2.959649</td>\n",
       "      <td>1.154117</td>\n",
       "      <td>13.358325</td>\n",
       "      <td>1.393736</td>\n",
       "    </tr>\n",
       "    <tr>\n",
       "      <th>54</th>\n",
       "      <td>54</td>\n",
       "      <td>-26.306883</td>\n",
       "      <td>-32.668518</td>\n",
       "      <td>-35.081020</td>\n",
       "      <td>5095</td>\n",
       "      <td>250</td>\n",
       "      <td>30.436879</td>\n",
       "      <td>-222.995996</td>\n",
       "      <td>-322.303526</td>\n",
       "      <td>9187.060493</td>\n",
       "      <td>4.151299</td>\n",
       "      <td>1.193359</td>\n",
       "      <td>0.111457</td>\n",
       "      <td>18.920978</td>\n",
       "    </tr>\n",
       "    <tr>\n",
       "      <th>234</th>\n",
       "      <td>234</td>\n",
       "      <td>-32.275146</td>\n",
       "      <td>-44.071358</td>\n",
       "      <td>-43.780968</td>\n",
       "      <td>1390</td>\n",
       "      <td>72</td>\n",
       "      <td>5.180658</td>\n",
       "      <td>-120.414944</td>\n",
       "      <td>-575.580559</td>\n",
       "      <td>9289.718886</td>\n",
       "      <td>2.244293</td>\n",
       "      <td>0.507400</td>\n",
       "      <td>48.962139</td>\n",
       "      <td>64.811871</td>\n",
       "    </tr>\n",
       "    <tr>\n",
       "      <th>296</th>\n",
       "      <td>296</td>\n",
       "      <td>-35.197254</td>\n",
       "      <td>-41.849667</td>\n",
       "      <td>-49.359653</td>\n",
       "      <td>21192</td>\n",
       "      <td>907</td>\n",
       "      <td>199.540450</td>\n",
       "      <td>46.096608</td>\n",
       "      <td>-318.117535</td>\n",
       "      <td>10993.825979</td>\n",
       "      <td>0.019116</td>\n",
       "      <td>2.758519</td>\n",
       "      <td>28.002436</td>\n",
       "      <td>94.757256</td>\n",
       "    </tr>\n",
       "    <tr>\n",
       "      <th>300</th>\n",
       "      <td>300</td>\n",
       "      <td>-51.624302</td>\n",
       "      <td>-60.576248</td>\n",
       "      <td>-64.871147</td>\n",
       "      <td>3214</td>\n",
       "      <td>166</td>\n",
       "      <td>-185.338219</td>\n",
       "      <td>-38.929691</td>\n",
       "      <td>-495.762028</td>\n",
       "      <td>9149.634150</td>\n",
       "      <td>3.566294</td>\n",
       "      <td>1.859423</td>\n",
       "      <td>6.624288</td>\n",
       "      <td>43.340049</td>\n",
       "    </tr>\n",
       "  </tbody>\n",
       "</table>\n",
       "</div>"
      ],
      "text/plain": [
       "     evt_idx  free_fit_llh  true_p_llh  retro_p_llh  n_calls  n_iters  \\\n",
       "53        53    -22.293381  -36.338837   -42.369255     2666      138   \n",
       "54        54    -26.306883  -32.668518   -35.081020     5095      250   \n",
       "234      234    -32.275146  -44.071358   -43.780968     1390       72   \n",
       "296      296    -35.197254  -41.849667   -49.359653    21192      907   \n",
       "300      300    -51.624302  -60.576248   -64.871147     3214      166   \n",
       "\n",
       "              x           y           z          time   azimuth    zenith  \\\n",
       "53    37.061517  -74.601142 -586.969872   9205.867274  2.959649  1.154117   \n",
       "54    30.436879 -222.995996 -322.303526   9187.060493  4.151299  1.193359   \n",
       "234    5.180658 -120.414944 -575.580559   9289.718886  2.244293  0.507400   \n",
       "296  199.540450   46.096608 -318.117535  10993.825979  0.019116  2.758519   \n",
       "300 -185.338219  -38.929691 -495.762028   9149.634150  3.566294  1.859423   \n",
       "\n",
       "     cascade energy  track energy  \n",
       "53        13.358325      1.393736  \n",
       "54         0.111457     18.920978  \n",
       "234       48.962139     64.811871  \n",
       "296       28.002436     94.757256  \n",
       "300        6.624288     43.340049  "
      ]
     },
     "execution_count": 26,
     "metadata": {},
     "output_type": "execute_result"
    }
   ],
   "source": [
    "bad.head()"
   ]
  },
  {
   "cell_type": "code",
   "execution_count": 29,
   "metadata": {},
   "outputs": [],
   "source": [
    "df.to_pickle('./fit_results.pkl')"
   ]
  },
  {
   "cell_type": "code",
   "execution_count": 28,
   "metadata": {},
   "outputs": [],
   "source": [
    "# kill all the services\n",
    "import zmq\n",
    "for proc, ctrl_addr in zip(procs, ctrl_addrs): \n",
    "    with zmq.Context.instance().socket(zmq.REQ) as ctrl_sock:\n",
    "        ctrl_sock.connect(ctrl_addr)\n",
    "        ctrl_sock.send_string(\"die\")\n",
    "        proc.join()"
   ]
  },
  {
   "cell_type": "code",
   "execution_count": null,
   "metadata": {},
   "outputs": [],
   "source": []
  }
 ],
 "metadata": {
  "kernelspec": {
   "display_name": "Python 3",
   "language": "python",
   "name": "python3"
  },
  "language_info": {
   "codemirror_mode": {
    "name": "ipython",
    "version": 3
   },
   "file_extension": ".py",
   "mimetype": "text/x-python",
   "name": "python",
   "nbconvert_exporter": "python",
   "pygments_lexer": "ipython3",
   "version": "3.7.3"
  }
 },
 "nbformat": 4,
 "nbformat_minor": 4
}
