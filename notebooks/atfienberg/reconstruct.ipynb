{
 "cells": [
  {
   "cell_type": "markdown",
   "metadata": {},
   "source": [
    "### Reconstruct all test events using four GPUs and the CRS2 spherical optimizer running in batch mode"
   ]
  },
  {
   "cell_type": "code",
   "execution_count": 1,
   "metadata": {},
   "outputs": [],
   "source": [
    "import pickle\n",
    "import math\n",
    "import time\n",
    "import os\n",
    "from functools import partial\n",
    "from multiprocessing import Process, Pool\n",
    "\n",
    "import numpy as np\n",
    "import pandas as pd\n",
    "from matplotlib import pyplot as plt\n",
    "\n",
    "from freedom.llh_service.llh_service import LLHService\n",
    "from freedom.reco import crs_reco\n",
    "from freedom.reco import summary_df\n",
    "from freedom.reco import transforms"
   ]
  },
  {
   "cell_type": "markdown",
   "metadata": {},
   "source": [
    "### Check for a consistent llh service / client installation"
   ]
  },
  {
   "cell_type": "code",
   "execution_count": 2,
   "metadata": {},
   "outputs": [],
   "source": [
    "import zmq\n",
    "from freedom.llh_service import llh_cython\n",
    "assert zmq.zmq_version() == llh_cython.zmq_version(), \"Inconsistent zmq installations!\""
   ]
  },
  {
   "cell_type": "code",
   "execution_count": 3,
   "metadata": {},
   "outputs": [],
   "source": [
    "cvmfs_dir = '/cvmfs/icecube.opensciencegrid.org/users/peller/freeDOM/resources'"
   ]
  },
  {
   "cell_type": "code",
   "execution_count": 4,
   "metadata": {},
   "outputs": [],
   "source": [
    "with open(f'{cvmfs_dir}/test_events.pkl', 'rb') as f:\n",
    "    events = pickle.load(f)\n",
    "# reconstruct about one i3 file's worth of events\n",
    "events = events[:3000]"
   ]
  },
  {
   "cell_type": "code",
   "execution_count": 5,
   "metadata": {},
   "outputs": [],
   "source": [
    "params = {'legend.fontsize': 14,\n",
    "          'axes.labelsize': 20,\n",
    "          'axes.titlesize': 20,\n",
    "          'xtick.labelsize': 14,\n",
    "          'ytick.labelsize': 14}\n",
    "plt.rcParams.update(params)"
   ]
  },
  {
   "cell_type": "markdown",
   "metadata": {},
   "source": [
    "### Specify n live points"
   ]
  },
  {
   "cell_type": "code",
   "execution_count": 6,
   "metadata": {},
   "outputs": [],
   "source": [
    "n_live_points = 97"
   ]
  },
  {
   "cell_type": "markdown",
   "metadata": {},
   "source": [
    "### Define allowed search ranges and initial box limits"
   ]
  },
  {
   "cell_type": "code",
   "execution_count": 7,
   "metadata": {},
   "outputs": [],
   "source": [
    "init_range = crs_reco.DEFAULT_INIT_RANGE\n",
    "param_search_limits = crs_reco.DEFAULT_SEARCH_LIMITS"
   ]
  },
  {
   "cell_type": "markdown",
   "metadata": {},
   "source": [
    "### llh service configuration:"
   ]
  },
  {
   "cell_type": "code",
   "execution_count": 8,
   "metadata": {},
   "outputs": [],
   "source": [
    "service_conf = {\n",
    "        \"poll_timeout\": 1,\n",
    "        \"flush_period\": 1,\n",
    "        \"n_hypo_params\": 8,\n",
    "        \"n_hit_features\": 10,\n",
    "        \"n_evt_features\": 2,\n",
    "        \"batch_size\" : {\n",
    "          \"n_hypos\": 200,\n",
    "          \"n_observations\": 6000, \n",
    "        },\n",
    "        \"send_hwm\": 10000,\n",
    "        \"recv_hwm\": 10000,\n",
    "        \"hitnet_file\": f\"{cvmfs_dir}/HitNet_ranger_06_Sep_2021-18h50/epoch_25_model.hdf5\",\n",
    "        \"chargenet_file\": f\"{cvmfs_dir}/ChargeNet_ranger_23_Aug_2021-18h42/epoch_1500_model.hdf5\"\n",
    "}"
   ]
  },
  {
   "cell_type": "code",
   "execution_count": 9,
   "metadata": {},
   "outputs": [],
   "source": [
    "# add hit_data, evt_data keys based on the networks being used\n",
    "for event in events:\n",
    "    event['hit_data'] = event['hits'][:, :service_conf['n_hit_features']]\n",
    "    event['evt_data'] = event['total_charge']"
   ]
  },
  {
   "cell_type": "code",
   "execution_count": 10,
   "metadata": {},
   "outputs": [],
   "source": [
    "# additional structure to enable ICU reco\n",
    "for event in events:\n",
    "    event['hit_data'] = [event['hit_data']]\n",
    "    event['evt_data'] = [event['evt_data']]"
   ]
  },
  {
   "cell_type": "markdown",
   "metadata": {},
   "source": [
    "### Build four services, one per GPU"
   ]
  },
  {
   "cell_type": "code",
   "execution_count": 11,
   "metadata": {},
   "outputs": [],
   "source": [
    "n_gpus = 4"
   ]
  },
  {
   "cell_type": "code",
   "execution_count": 12,
   "metadata": {},
   "outputs": [],
   "source": [
    "base_req = \"tcp://127.0.0.1:12340\"\n",
    "base_ctrl = \"tcp://127.0.0.1:12350\"\n",
    "\n",
    "req_addrs = []\n",
    "ctrl_addrs = []\n",
    "for i in range(n_gpus):\n",
    "    req_addrs.append(crs_reco.adjust_addr_string(base_req, i))\n",
    "    ctrl_addrs.append(crs_reco.adjust_addr_string(base_ctrl, i))"
   ]
  },
  {
   "cell_type": "code",
   "execution_count": 13,
   "metadata": {},
   "outputs": [
    {
     "name": "stdout",
     "output_type": "stream",
     "text": [
      "['tcp://127.0.0.1:12340', 'tcp://127.0.0.1:12341', 'tcp://127.0.0.1:12342', 'tcp://127.0.0.1:12343']\n",
      "['tcp://127.0.0.1:12350', 'tcp://127.0.0.1:12351', 'tcp://127.0.0.1:12352', 'tcp://127.0.0.1:12353']\n"
     ]
    }
   ],
   "source": [
    "print(req_addrs)\n",
    "print(ctrl_addrs)"
   ]
  },
  {
   "cell_type": "code",
   "execution_count": 14,
   "metadata": {},
   "outputs": [],
   "source": [
    "%%capture\n",
    "os.environ['TF_CPP_MIN_LOG_LEVEL'] = '3' \n",
    "procs = []\n",
    "for i in range(n_gpus):\n",
    "    proc = Process(target=crs_reco.start_service, args=(service_conf, ctrl_addrs[i], req_addrs[i] ,i))\n",
    "    proc.start()\n",
    "    procs.append(proc)"
   ]
  },
  {
   "cell_type": "markdown",
   "metadata": {},
   "source": [
    "### Fit a single event"
   ]
  },
  {
   "cell_type": "code",
   "execution_count": 15,
   "metadata": {},
   "outputs": [
    {
     "name": "stdout",
     "output_type": "stream",
     "text": [
      "CPU times: user 267 ms, sys: 28.4 ms, total: 295 ms\n",
      "Wall time: 11.2 s\n"
     ]
    }
   ],
   "source": [
    "%%time\n",
    "test_out = crs_reco.fit_events(events[:1], 0, ctrl_addrs, init_range, \n",
    "                               param_search_limits, n_live_points,\n",
    "                               batch_size=12, spherical_indices=[[4,5]],\n",
    "                               do_postfit=True,\n",
    "                               param_transforms=transforms.track_frac_transforms)"
   ]
  },
  {
   "cell_type": "code",
   "execution_count": 16,
   "metadata": {},
   "outputs": [
    {
     "name": "stdout",
     "output_type": "stream",
     "text": [
      "best fit -LLH: -38.27\n",
      "true params -LLH: -24.96\n",
      "---\n",
      "n LLh calls: 3909\n",
      "n optimizer iterations: 204\n"
     ]
    }
   ],
   "source": [
    "print(f'best fit -LLH: {test_out[0][0][\"fun\"]:.2f}')\n",
    "print(f'true params -LLH: {test_out[0][1]:.2f}')\n",
    "print('---')\n",
    "print(f'n LLh calls: {test_out[0][0][\"n_calls\"]}')\n",
    "print(f'n optimizer iterations: {test_out[0][0][\"nit\"]}')"
   ]
  },
  {
   "cell_type": "code",
   "execution_count": 17,
   "metadata": {},
   "outputs": [
    {
     "data": {
      "text/plain": [
       "3000"
      ]
     },
     "execution_count": 17,
     "metadata": {},
     "output_type": "execute_result"
    }
   ],
   "source": [
    "events_to_process = len(events)\n",
    "pool_size = 200\n",
    "evts_per_proc = int(math.ceil(events_to_process/pool_size))\n",
    "evt_splits = [events[i*evts_per_proc:(i+1)*evts_per_proc] for i in range(pool_size)]\n",
    "events_to_process"
   ]
  },
  {
   "cell_type": "code",
   "execution_count": 18,
   "metadata": {},
   "outputs": [],
   "source": [
    "gpu_inds = np.arange(pool_size) % n_gpus"
   ]
  },
  {
   "cell_type": "code",
   "execution_count": 19,
   "metadata": {},
   "outputs": [],
   "source": [
    "fit_events_partial = partial(\n",
    "        crs_reco.fit_events,\n",
    "        ctrl_addrs=ctrl_addrs,\n",
    "        init_range=init_range,\n",
    "        search_limits=param_search_limits,\n",
    "        n_live_points=n_live_points,\n",
    "        spherical_indices=[[4,5]],\n",
    "        batch_size=12,\n",
    "        do_postfit=True,\n",
    "        param_transforms=transforms.track_frac_transforms)"
   ]
  },
  {
   "cell_type": "code",
   "execution_count": 20,
   "metadata": {},
   "outputs": [
    {
     "name": "stdout",
     "output_type": "stream",
     "text": [
      "CPU times: user 432 ms, sys: 1.78 s, total: 2.21 s\n",
      "Wall time: 4min 25s\n"
     ]
    }
   ],
   "source": [
    "%%time\n",
    "start = time.time()\n",
    "# reconstruct with a worker pool; one LLH client per worker\n",
    "with Pool(pool_size) as p:\n",
    "    outs = p.starmap(fit_events_partial, zip(evt_splits, gpu_inds))\n",
    "delta = time.time() - start"
   ]
  },
  {
   "cell_type": "code",
   "execution_count": 21,
   "metadata": {},
   "outputs": [
    {
     "name": "stdout",
     "output_type": "stream",
     "text": [
      "measured time: 4.4 minutes\n"
     ]
    }
   ],
   "source": [
    "print(f'measured time: {delta/60:.1f} minutes')"
   ]
  },
  {
   "cell_type": "code",
   "execution_count": 22,
   "metadata": {},
   "outputs": [],
   "source": [
    "all_outs = sum((out for out in outs), [])"
   ]
  },
  {
   "cell_type": "markdown",
   "metadata": {},
   "source": [
    "Note: the following timing is from running on four V100 GPUs in parallel"
   ]
  },
  {
   "cell_type": "code",
   "execution_count": 23,
   "metadata": {},
   "outputs": [
    {
     "name": "stdout",
     "output_type": "stream",
     "text": [
      "13186688 total calls\n",
      "659757 total iters\n",
      "4395.6 calls per event\n",
      "20.10 us per call\n",
      "219.9 iters per event\n",
      "401.78 us per iter\n"
     ]
    }
   ],
   "source": [
    "total_calls = sum(out[0]['n_calls'] for out in all_outs)\n",
    "total_iters = sum(out[0]['nit'] for out in all_outs)\n",
    "print(f'{total_calls} total calls')\n",
    "time_per_call = delta/total_calls\n",
    "print(f'{total_iters} total iters')\n",
    "time_per_iter = delta/total_iters\n",
    "print(f'{total_calls/len(all_outs):.1f} calls per event')\n",
    "print(f'{time_per_call*1e6:.2f} us per call')\n",
    "\n",
    "print(f'{total_iters/len(all_outs):.1f} iters per event')\n",
    "print(f'{time_per_iter*1e6:.2f} us per iter')"
   ]
  },
  {
   "cell_type": "code",
   "execution_count": 24,
   "metadata": {},
   "outputs": [],
   "source": [
    "par_names = transforms.track_frac_transforms['par_names']\n",
    "df = summary_df.build_summary_df(all_outs, par_names)"
   ]
  },
  {
   "cell_type": "code",
   "execution_count": 25,
   "metadata": {},
   "outputs": [
    {
     "name": "stdout",
     "output_type": "stream",
     "text": [
      "free fit better frac: 0.95\n"
     ]
    }
   ],
   "source": [
    "free_f_better = df[df.free_fit_llh < df.true_p_llh]\n",
    "frac = len(free_f_better) / len(df)\n",
    "print(f'free fit better frac: {frac:.2f}')"
   ]
  },
  {
   "cell_type": "code",
   "execution_count": 26,
   "metadata": {},
   "outputs": [],
   "source": [
    "df.to_pickle('./test_out.pkl')"
   ]
  },
  {
   "cell_type": "code",
   "execution_count": 27,
   "metadata": {},
   "outputs": [],
   "source": [
    "# kill all the services\n",
    "import zmq\n",
    "for proc, ctrl_addr in zip(procs, ctrl_addrs): \n",
    "    with zmq.Context.instance().socket(zmq.REQ) as ctrl_sock:\n",
    "        ctrl_sock.connect(ctrl_addr)\n",
    "        ctrl_sock.send_string(\"die\")\n",
    "        proc.join()"
   ]
  },
  {
   "cell_type": "code",
   "execution_count": 28,
   "metadata": {},
   "outputs": [
    {
     "data": {
      "text/plain": [
       "Text(0, 0.5, 'n events')"
      ]
     },
     "execution_count": 28,
     "metadata": {},
     "output_type": "execute_result"
    },
    {
     "data": {
      "image/png": "[encoded data removed]",
      "text/plain": [
       "<Figure size 864x360 with 1 Axes>"
      ]
     },
     "metadata": {
      "needs_background": "light"
     },
     "output_type": "display_data"
    }
   ],
   "source": [
    "fig, ax = plt.subplots(figsize=(12, 5))\n",
    "zen_ind = par_names.index('zenith')\n",
    "true_zen = np.array([event['params'][zen_ind] for event in events])\n",
    "czen_bins = np.linspace(-1, 1, 50)\n",
    "ax.hist(np.cos(df.zenith) - np.cos(true_zen), bins=czen_bins, histtype='step')\n",
    "ax.set_xlabel('cos zen err')\n",
    "ax.set_ylabel('n events')"
   ]
  },
  {
   "cell_type": "code",
   "execution_count": 29,
   "metadata": {},
   "outputs": [
    {
     "data": {
      "text/plain": [
       "<matplotlib.legend.Legend at 0x2ab39106d400>"
      ]
     },
     "execution_count": 29,
     "metadata": {},
     "output_type": "execute_result"
    },
    {
     "data": {
      "image/png": "[encoded data removed]",
      "text/plain": [
       "<Figure size 864x360 with 1 Axes>"
      ]
     },
     "metadata": {
      "needs_background": "light"
     },
     "output_type": "display_data"
    }
   ],
   "source": [
    "fig, ax = plt.subplots(figsize=(12, 5))\n",
    "true_zen = np.array([event['params'][zen_ind] for event in events])\n",
    "bins = np.linspace(-1, 1, 50)\n",
    "ax.hist(np.cos(df.zenith), bins=bins, histtype='step', label='reco')\n",
    "ax.hist(np.cos(true_zen), bins=bins, histtype='step', label='true')\n",
    "ax.set_xlabel('cos zen')\n",
    "ax.set_ylabel('n events')\n",
    "ax.legend()"
   ]
  }
 ],
 "metadata": {
  "kernelspec": {
   "display_name": "Python 3 (ipykernel)",
   "language": "python",
   "name": "python3"
  },
  "language_info": {
   "codemirror_mode": {
    "name": "ipython",
    "version": 3
   },
   "file_extension": ".py",
   "mimetype": "text/x-python",
   "name": "python",
   "nbconvert_exporter": "python",
   "pygments_lexer": "ipython3",
   "version": "3.8.8"
  }
 },
 "nbformat": 4,
 "nbformat_minor": 4
}
